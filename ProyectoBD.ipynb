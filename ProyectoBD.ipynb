{
  "nbformat": 4,
  "nbformat_minor": 0,
  "metadata": {
    "colab": {
      "provenance": [],
      "authorship_tag": "ABX9TyMLN03q7spgrIOoZJKJs4Sx",
      "include_colab_link": true
    },
    "kernelspec": {
      "name": "python3",
      "display_name": "Python 3"
    },
    "language_info": {
      "name": "python"
    }
  },
  "cells": [
    {
      "cell_type": "markdown",
      "metadata": {
        "id": "view-in-github",
        "colab_type": "text"
      },
      "source": [
        "<a href=\"https://colab.research.google.com/github/DarkNightSoldier/DTApp/blob/main/ProyectoBD.ipynb\" target=\"_parent\"><img src=\"https://colab.research.google.com/assets/colab-badge.svg\" alt=\"Open In Colab\"/></a>"
      ]
    },
    {
      "cell_type": "markdown",
      "source": [
        "# 1. Extracción de información del PDF de Historia Académica"
      ],
      "metadata": {
        "id": "VWkVDNjObYCi"
      }
    },
    {
      "cell_type": "code",
      "source": [
        "!pip install PyPDF2"
      ],
      "metadata": {
        "colab": {
          "base_uri": "https://localhost:8080/"
        },
        "id": "-BO-sV62WdR4",
        "outputId": "65188108-c5be-4a56-c505-069f75a53a27"
      },
      "execution_count": 2,
      "outputs": [
        {
          "output_type": "stream",
          "name": "stdout",
          "text": [
            "Collecting PyPDF2\n",
            "  Downloading pypdf2-3.0.1-py3-none-any.whl.metadata (6.8 kB)\n",
            "Downloading pypdf2-3.0.1-py3-none-any.whl (232 kB)\n",
            "\u001b[?25l   \u001b[90m━━━━━━━━━━━━━━━━━━━━━━━━━━━━━━━━━━━━━━━━\u001b[0m \u001b[32m0.0/232.6 kB\u001b[0m \u001b[31m?\u001b[0m eta \u001b[36m-:--:--\u001b[0m\r\u001b[2K   \u001b[91m━━━━━━━━━━━━━━━━━━━━━━━━━━━━━━━━━━━\u001b[0m\u001b[90m╺\u001b[0m\u001b[90m━━━━\u001b[0m \u001b[32m204.8/232.6 kB\u001b[0m \u001b[31m6.0 MB/s\u001b[0m eta \u001b[36m0:00:01\u001b[0m\r\u001b[2K   \u001b[90m━━━━━━━━━━━━━━━━━━━━━━━━━━━━━━━━━━━━━━━━\u001b[0m \u001b[32m232.6/232.6 kB\u001b[0m \u001b[31m4.5 MB/s\u001b[0m eta \u001b[36m0:00:00\u001b[0m\n",
            "\u001b[?25hInstalling collected packages: PyPDF2\n",
            "Successfully installed PyPDF2-3.0.1\n"
          ]
        }
      ]
    },
    {
      "cell_type": "code",
      "execution_count": 68,
      "metadata": {
        "colab": {
          "base_uri": "https://localhost:8080/"
        },
        "id": "MjHSlnj7WSBe",
        "outputId": "5afae107-c374-4fa8-dc19-61fe410cb89c"
      },
      "outputs": [
        {
          "output_type": "stream",
          "name": "stdout",
          "text": [
            "Nombre: Santiago  Botero  Daza\n",
            "Documento: 1025524766\n",
            "Plan: Ciencias De La Computación  (2933 )\n",
            "Créditos de Estudio Doble Titulación: 70\n",
            "[\n",
            "    {\n",
            "        \"Periodo\": \"2022-1S\",\n",
            "        \"Cod_Asignatura\": \"2016377\",\n",
            "        \"Nom_Asignatura\": \"Cálculo diferencial en una variable\",\n",
            "        \"Creditos\": \"4\",\n",
            "        \"Calificacion\": \"3,0\"\n",
            "    },\n",
            "    {\n",
            "        \"Periodo\": \"2022-1S\",\n",
            "        \"Cod_Asignatura\": \"2015168\",\n",
            "        \"Nom_Asignatura\": \"Fundamentos de matemáticas\",\n",
            "        \"Creditos\": \"4\",\n",
            "        \"Calificacion\": \"3,3\"\n",
            "    },\n",
            "    {\n",
            "        \"Periodo\": \"2022-1S\",\n",
            "        \"Cod_Asignatura\": \"2026573\",\n",
            "        \"Nom_Asignatura\": \"Introducción a las ciencias de la computación\",\n",
            "        \"Creditos\": \"4\",\n",
            "        \"Calificacion\": \"4,1\"\n",
            "    },\n",
            "    {\n",
            "        \"Periodo\": \"2022-2S\",\n",
            "        \"Cod_Asignatura\": \"2016375\",\n",
            "        \"Nom_Asignatura\": \"Programación orientada a objetos\",\n",
            "        \"Creditos\": \"3\",\n",
            "        \"Calificacion\": \"4,2\"\n",
            "    },\n",
            "    {\n",
            "        \"Periodo\": \"2022-2S\",\n",
            "        \"Cod_Asignatura\": \"2015556\",\n",
            "        \"Nom_Asignatura\": \"Cálculo integral en una variable\",\n",
            "        \"Creditos\": \"4\",\n",
            "        \"Calificacion\": \"3,0\"\n",
            "    },\n",
            "    {\n",
            "        \"Periodo\": \"2022-2S\",\n",
            "        \"Cod_Asignatura\": \"2015555\",\n",
            "        \"Nom_Asignatura\": \"Álgebra lineal básica\",\n",
            "        \"Creditos\": \"4\",\n",
            "        \"Calificacion\": \"3,3\"\n",
            "    },\n",
            "    {\n",
            "        \"Periodo\": \"2022-2S\",\n",
            "        \"Cod_Asignatura\": \"2015181\",\n",
            "        \"Nom_Asignatura\": \"Sistemas numéricos\",\n",
            "        \"Creditos\": \"4\",\n",
            "        \"Calificacion\": \"3,5\"\n",
            "    }\n",
            "]\n"
          ]
        }
      ],
      "source": [
        "import re\n",
        "from PyPDF2 import PdfReader\n",
        "\n",
        "# Cargar el archivo PDF\n",
        "pdf_path = \"HistoriaAcadem.pdf\"\n",
        "reader = PdfReader(pdf_path)\n",
        "\n",
        "# Extraer texto de todas las páginas\n",
        "text = \"\"\n",
        "for page in reader.pages:\n",
        "    text += page.extract_text()\n",
        "\n",
        "# Buscar las secciones requeridas usando expresiones regulares\n",
        "nombre = re.search(r\"Nombre:\\s+(.*)\", text)\n",
        "documento = re.search(r\"Documento:\\s+(\\d+)\", text)\n",
        "plan = re.search(r\"Plan:\\s+(.*?)(?:\\s+Hist\\.|$)\", text)\n",
        "papa_promedio = re.search(r\"(\\d+,\\d+)\\s+\\(Acumulado\\)\\s+PREGRADO\\s+P\\.A\\.P\\.A\", text)\n",
        "creditos_dt = re.search(r\"Créditos de estudio doble titulación\\s+(\\d+)\", text)\n",
        "\n",
        "# Imprimir resultados\n",
        "print(\"Nombre:\", nombre.group(1) if nombre else \"No encontrado\")\n",
        "print(\"Documento:\", documento.group(1) if documento else \"No encontrado\")\n",
        "print(\"Plan:\", plan.group(1) if plan else \"No encontrado\")\n",
        "print(\"Créditos de Estudio Doble Titulación:\", creditos_dt.group(1) if creditos_dt else \"No encontrado\")\n",
        "\n",
        "\n",
        "#Información por semestre\n",
        "periodos = text.split(\"PERIODO\")\n",
        "#Array que contiene la información de asignaturas cursadas:\n",
        "asignaturas_cursadas = []\n",
        "# Imprimir cada sección del periodo\n",
        "for i, periodo in enumerate(periodos):\n",
        "    texto_periodo = periodo.strip()\n",
        "    periodo_match = re.search(r\"(\\d{4}-\\d{1}S)\", texto_periodo)\n",
        "    periodo = periodo_match.group(1) if periodo_match else \"No especificado\"\n",
        "\n",
        "    # Patrón para extraer las asignaturas con calificación únicamente numérica\n",
        "    asignatura_pattern = r\"(?P<Nom_Asignatura>.+?)\\s+\\((?P<Cod_Asignatura>\\d+)\\).+?(?P<Creditos>\\d+).+?Fund\\. Obligatoria\\s+\\(B\\)\\s+(?P<Calificacion>\\d+,\\d+)\"\n",
        "\n",
        "\n",
        "    # Buscar todas las asignaturas en el texto del periodo\n",
        "    asignaturas = re.finditer(asignatura_pattern, texto_periodo)\n",
        "\n",
        "    # Añadir a la lista de asignaturas cursadas\n",
        "    for asignatura in asignaturas:\n",
        "        asignaturas_cursadas.append({\n",
        "            \"Periodo\": periodo,\n",
        "            \"Cod_Asignatura\": asignatura.group(\"Cod_Asignatura\"),\n",
        "            \"Nom_Asignatura\": asignatura.group(\"Nom_Asignatura\").strip(),\n",
        "            \"Creditos\": asignatura.group(\"Creditos\"),\n",
        "            \"Calificacion\": asignatura.group(\"Calificacion\")\n",
        "        })\n",
        "# Convertir resultados a JSON\n",
        "resultados_json = json.dumps(asignaturas_cursadas, indent=4, ensure_ascii=False)\n",
        "# Imprimir JSON\n",
        "print(resultados_json)"
      ]
    }
  ]
}