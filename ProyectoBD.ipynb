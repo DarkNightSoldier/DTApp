{
  "cells": [
    {
      "cell_type": "markdown",
      "metadata": {
        "id": "view-in-github"
      },
      "source": [
        "<a href=\"https://colab.research.google.com/github/DarkNightSoldier/DTApp/blob/main/ProyectoBD.ipynb\" target=\"_parent\"><img src=\"https://colab.research.google.com/assets/colab-badge.svg\" alt=\"Open In Colab\"/></a>"
      ]
    },
    {
      "cell_type": "code",
      "execution_count": 1,
      "metadata": {
        "colab": {
          "base_uri": "https://localhost:8080/"
        },
        "id": "-BO-sV62WdR4",
        "outputId": "ea29b071-816a-48ac-e2ae-7fd70c142e9c"
      },
      "outputs": [
        {
          "name": "stdout",
          "output_type": "stream",
          "text": [
            "Requirement already satisfied: tabula-py in c:\\users\\aleja\\appdata\\local\\programs\\python\\python312\\lib\\site-packages (2.10.0)\n",
            "Requirement already satisfied: pandas>=0.25.3 in c:\\users\\aleja\\appdata\\local\\programs\\python\\python312\\lib\\site-packages (from tabula-py) (2.2.3)\n",
            "Requirement already satisfied: numpy>1.24.4 in c:\\users\\aleja\\appdata\\local\\programs\\python\\python312\\lib\\site-packages (from tabula-py) (1.26.2)\n",
            "Requirement already satisfied: distro in c:\\users\\aleja\\appdata\\local\\programs\\python\\python312\\lib\\site-packages (from tabula-py) (1.9.0)\n",
            "Requirement already satisfied: python-dateutil>=2.8.2 in c:\\users\\aleja\\appdata\\local\\programs\\python\\python312\\lib\\site-packages (from pandas>=0.25.3->tabula-py) (2.8.2)\n",
            "Requirement already satisfied: pytz>=2020.1 in c:\\users\\aleja\\appdata\\local\\programs\\python\\python312\\lib\\site-packages (from pandas>=0.25.3->tabula-py) (2025.1)\n",
            "Requirement already satisfied: tzdata>=2022.7 in c:\\users\\aleja\\appdata\\local\\programs\\python\\python312\\lib\\site-packages (from pandas>=0.25.3->tabula-py) (2023.3)\n",
            "Requirement already satisfied: six>=1.5 in c:\\users\\aleja\\appdata\\local\\programs\\python\\python312\\lib\\site-packages (from python-dateutil>=2.8.2->pandas>=0.25.3->tabula-py) (1.16.0)\n"
          ]
        },
        {
          "name": "stderr",
          "output_type": "stream",
          "text": [
            "\n",
            "[notice] A new release of pip is available: 24.3.1 -> 25.0.1\n",
            "[notice] To update, run: python.exe -m pip install --upgrade pip\n"
          ]
        },
        {
          "name": "stdout",
          "output_type": "stream",
          "text": [
            "Requirement already satisfied: pandasql in c:\\users\\aleja\\appdata\\local\\programs\\python\\python312\\lib\\site-packages (0.7.3)\n",
            "Requirement already satisfied: numpy in c:\\users\\aleja\\appdata\\local\\programs\\python\\python312\\lib\\site-packages (from pandasql) (1.26.2)\n",
            "Requirement already satisfied: pandas in c:\\users\\aleja\\appdata\\local\\programs\\python\\python312\\lib\\site-packages (from pandasql) (2.2.3)\n",
            "Requirement already satisfied: sqlalchemy in c:\\users\\aleja\\appdata\\local\\programs\\python\\python312\\lib\\site-packages (from pandasql) (2.0.38)\n",
            "Requirement already satisfied: python-dateutil>=2.8.2 in c:\\users\\aleja\\appdata\\local\\programs\\python\\python312\\lib\\site-packages (from pandas->pandasql) (2.8.2)\n",
            "Requirement already satisfied: pytz>=2020.1 in c:\\users\\aleja\\appdata\\local\\programs\\python\\python312\\lib\\site-packages (from pandas->pandasql) (2025.1)\n",
            "Requirement already satisfied: tzdata>=2022.7 in c:\\users\\aleja\\appdata\\local\\programs\\python\\python312\\lib\\site-packages (from pandas->pandasql) (2023.3)\n",
            "Requirement already satisfied: greenlet!=0.4.17 in c:\\users\\aleja\\appdata\\local\\programs\\python\\python312\\lib\\site-packages (from sqlalchemy->pandasql) (3.1.1)\n",
            "Requirement already satisfied: typing-extensions>=4.6.0 in c:\\users\\aleja\\appdata\\local\\programs\\python\\python312\\lib\\site-packages (from sqlalchemy->pandasql) (4.12.2)\n",
            "Requirement already satisfied: six>=1.5 in c:\\users\\aleja\\appdata\\local\\programs\\python\\python312\\lib\\site-packages (from python-dateutil>=2.8.2->pandas->pandasql) (1.16.0)\n"
          ]
        },
        {
          "name": "stderr",
          "output_type": "stream",
          "text": [
            "\n",
            "[notice] A new release of pip is available: 24.3.1 -> 25.0.1\n",
            "[notice] To update, run: python.exe -m pip install --upgrade pip\n"
          ]
        },
        {
          "name": "stdout",
          "output_type": "stream",
          "text": [
            "Requirement already satisfied: python-docx in c:\\users\\aleja\\appdata\\local\\programs\\python\\python312\\lib\\site-packages (1.1.2)\n",
            "Requirement already satisfied: lxml>=3.1.0 in c:\\users\\aleja\\appdata\\local\\programs\\python\\python312\\lib\\site-packages (from python-docx) (5.3.1)\n",
            "Requirement already satisfied: typing-extensions>=4.9.0 in c:\\users\\aleja\\appdata\\local\\programs\\python\\python312\\lib\\site-packages (from python-docx) (4.12.2)\n"
          ]
        },
        {
          "name": "stderr",
          "output_type": "stream",
          "text": [
            "\n",
            "[notice] A new release of pip is available: 24.3.1 -> 25.0.1\n",
            "[notice] To update, run: python.exe -m pip install --upgrade pip\n",
            "\"wget\" no se reconoce como un comando interno o externo,\n",
            "programa o archivo por lotes ejecutable.\n"
          ]
        }
      ],
      "source": [
        "!pip install tabula-py\n",
        "!pip install pandasql\n",
        "!pip install python-docx\n",
        "!wget https://raw.githubusercontent.com/DarkNightSoldier/DTApp/main/DatosApp.db"
      ]
    },
    {
      "cell_type": "code",
      "execution_count": 1,
      "metadata": {},
      "outputs": [
        {
          "name": "stderr",
          "output_type": "stream",
          "text": [
            "Failed to import jpype dependencies. Fallback to subprocess.\n",
            "No module named 'jpype'\n"
          ]
        }
      ],
      "source": [
        "from funciones_estudio import *\n",
        "\n",
        "for i in range(0,16):\n",
        "    Realizar_Estudio(f'HistAcad/{i}.pdf')"
      ]
    }
  ],
  "metadata": {
    "colab": {
      "provenance": []
    },
    "kernelspec": {
      "display_name": "Python 3",
      "name": "python3"
    },
    "language_info": {
      "codemirror_mode": {
        "name": "ipython",
        "version": 3
      },
      "file_extension": ".py",
      "mimetype": "text/x-python",
      "name": "python",
      "nbconvert_exporter": "python",
      "pygments_lexer": "ipython3",
      "version": "3.12.0"
    }
  },
  "nbformat": 4,
  "nbformat_minor": 0
}
