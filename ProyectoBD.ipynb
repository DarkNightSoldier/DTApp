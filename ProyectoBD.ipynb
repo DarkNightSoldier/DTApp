{
  "cells": [
    {
      "cell_type": "markdown",
      "metadata": {
        "id": "view-in-github"
      },
      "source": [
        "<a href=\"https://colab.research.google.com/github/DarkNightSoldier/DTApp/blob/main/ProyectoBD.ipynb\" target=\"_parent\"><img src=\"https://colab.research.google.com/assets/colab-badge.svg\" alt=\"Open In Colab\"/></a>"
      ]
    },
    {
      "cell_type": "code",
      "execution_count": 2,
      "metadata": {
        "colab": {
          "base_uri": "https://localhost:8080/"
        },
        "id": "-BO-sV62WdR4",
        "outputId": "ea29b071-816a-48ac-e2ae-7fd70c142e9c"
      },
      "outputs": [
        {
          "name": "stdout",
          "output_type": "stream",
          "text": [
            "Requirement already satisfied: tabula-py in c:\\users\\aleja\\appdata\\local\\programs\\python\\python312\\lib\\site-packages (2.10.0)\n",
            "Requirement already satisfied: pandas>=0.25.3 in c:\\users\\aleja\\appdata\\local\\programs\\python\\python312\\lib\\site-packages (from tabula-py) (2.2.3)\n",
            "Requirement already satisfied: numpy>1.24.4 in c:\\users\\aleja\\appdata\\local\\programs\\python\\python312\\lib\\site-packages (from tabula-py) (1.26.2)\n",
            "Requirement already satisfied: distro in c:\\users\\aleja\\appdata\\local\\programs\\python\\python312\\lib\\site-packages (from tabula-py) (1.9.0)\n",
            "Requirement already satisfied: python-dateutil>=2.8.2 in c:\\users\\aleja\\appdata\\local\\programs\\python\\python312\\lib\\site-packages (from pandas>=0.25.3->tabula-py) (2.8.2)\n",
            "Requirement already satisfied: pytz>=2020.1 in c:\\users\\aleja\\appdata\\local\\programs\\python\\python312\\lib\\site-packages (from pandas>=0.25.3->tabula-py) (2025.1)\n",
            "Requirement already satisfied: tzdata>=2022.7 in c:\\users\\aleja\\appdata\\local\\programs\\python\\python312\\lib\\site-packages (from pandas>=0.25.3->tabula-py) (2023.3)\n",
            "Requirement already satisfied: six>=1.5 in c:\\users\\aleja\\appdata\\local\\programs\\python\\python312\\lib\\site-packages (from python-dateutil>=2.8.2->pandas>=0.25.3->tabula-py) (1.16.0)\n"
          ]
        },
        {
          "name": "stderr",
          "output_type": "stream",
          "text": [
            "\n",
            "[notice] A new release of pip is available: 24.3.1 -> 25.0.1\n",
            "[notice] To update, run: python.exe -m pip install --upgrade pip\n"
          ]
        },
        {
          "name": "stdout",
          "output_type": "stream",
          "text": [
            "^C\n",
            "Requirement already satisfied: pandasql in c:\\users\\aleja\\appdata\\local\\programs\\python\\python312\\lib\\site-packages (0.7.3)\n",
            "Requirement already satisfied: numpy in c:\\users\\aleja\\appdata\\local\\programs\\python\\python312\\lib\\site-packages (from pandasql) (1.26.2)\n",
            "Requirement already satisfied: pandas in c:\\users\\aleja\\appdata\\local\\programs\\python\\python312\\lib\\site-packages (from pandasql) (2.2.3)\n",
            "Requirement already satisfied: sqlalchemy in c:\\users\\aleja\\appdata\\local\\programs\\python\\python312\\lib\\site-packages (from pandasql) (2.0.38)\n",
            "Requirement already satisfied: python-dateutil>=2.8.2 in c:\\users\\aleja\\appdata\\local\\programs\\python\\python312\\lib\\site-packages (from pandas->pandasql) (2.8.2)\n",
            "Requirement already satisfied: pytz>=2020.1 in c:\\users\\aleja\\appdata\\local\\programs\\python\\python312\\lib\\site-packages (from pandas->pandasql) (2025.1)\n",
            "Requirement already satisfied: tzdata>=2022.7 in c:\\users\\aleja\\appdata\\local\\programs\\python\\python312\\lib\\site-packages (from pandas->pandasql) (2023.3)\n",
            "Requirement already satisfied: greenlet!=0.4.17 in c:\\users\\aleja\\appdata\\local\\programs\\python\\python312\\lib\\site-packages (from sqlalchemy->pandasql) (3.1.1)\n",
            "Requirement already satisfied: typing-extensions>=4.6.0 in c:\\users\\aleja\\appdata\\local\\programs\\python\\python312\\lib\\site-packages (from sqlalchemy->pandasql) (4.12.2)\n",
            "Requirement already satisfied: six>=1.5 in c:\\users\\aleja\\appdata\\local\\programs\\python\\python312\\lib\\site-packages (from python-dateutil>=2.8.2->pandas->pandasql) (1.16.0)\n"
          ]
        },
        {
          "name": "stderr",
          "output_type": "stream",
          "text": [
            "\n",
            "[notice] A new release of pip is available: 24.3.1 -> 25.0.1\n",
            "[notice] To update, run: python.exe -m pip install --upgrade pip\n"
          ]
        },
        {
          "name": "stdout",
          "output_type": "stream",
          "text": [
            "Requirement already satisfied: python-docx in c:\\users\\aleja\\appdata\\local\\programs\\python\\python312\\lib\\site-packages (1.1.2)\n",
            "Requirement already satisfied: lxml>=3.1.0 in c:\\users\\aleja\\appdata\\local\\programs\\python\\python312\\lib\\site-packages (from python-docx) (5.3.1)\n",
            "Requirement already satisfied: typing-extensions>=4.9.0 in c:\\users\\aleja\\appdata\\local\\programs\\python\\python312\\lib\\site-packages (from python-docx) (4.12.2)\n"
          ]
        },
        {
          "name": "stderr",
          "output_type": "stream",
          "text": [
            "\n",
            "[notice] A new release of pip is available: 24.3.1 -> 25.0.1\n",
            "[notice] To update, run: python.exe -m pip install --upgrade pip\n",
            "\"wget\" no se reconoce como un comando interno o externo,\n",
            "programa o archivo por lotes ejecutable.\n"
          ]
        }
      ],
      "source": [
        "!pip install tabula-py\n",
        "!pip install pandasql\n",
        "!pip install python-docx\n",
        "!wget https://raw.githubusercontent.com/DarkNightSoldier/DTApp/main/DatosApp.db"
      ]
    },
    {
      "cell_type": "code",
      "execution_count": null,
      "metadata": {},
      "outputs": [
        {
          "name": "stderr",
          "output_type": "stream",
          "text": [
            "Failed to import jpype dependencies. Fallback to subprocess.\n",
            "No module named 'jpype'\n"
          ]
        }
      ],
      "source": [
        "from funciones_estudio import *\n",
        "import os\n",
        "\n",
        "directorio = \"NHistAcad\"\n",
        "\n",
        "for archivo in os.listdir(directorio):\n",
        "    # Verifica si el archivo es un PDF\n",
        "    if archivo.endswith(\".pdf\"):\n",
        "        # Llama a la función para ese archivo\n",
        "        Realizar_Estudio(os.path.join(directorio, archivo))"
      ]
    },
    {
      "cell_type": "code",
      "execution_count": null,
      "metadata": {},
      "outputs": [
        {
          "name": "stderr",
          "output_type": "stream",
          "text": [
            "Failed to import jpype dependencies. Fallback to subprocess.\n",
            "No module named 'jpype'\n"
          ]
        },
        {
          "data": {
            "text/plain": [
              "'Estudios/Mariana Ramírez Velásquez_estudio_dt.docx'"
            ]
          },
          "execution_count": 1,
          "metadata": {},
          "output_type": "execute_result"
        }
      ],
      "source": [
        "from funciones_estudio import *\n",
        "Realizar_Estudio(f'HistAcad/2703.pdf')"
      ]
    },
    {
      "cell_type": "code",
      "execution_count": null,
      "metadata": {},
      "outputs": [
        {
          "name": "stderr",
          "output_type": "stream",
          "text": [
            "c:\\Users\\aleja\\Documents\\GitHub\\DTApp\\funciones_estudio.py:138: SyntaxWarning: invalid escape sequence '\\s'\n",
            "  exp_regular = f\"{asignaturas_estudiante.loc[index,\"Nom_Asignatura\"]}\\s*\\((\\d+)(?:-[A-Z])?\\)\"\n",
            "Failed to import jpype dependencies. Fallback to subprocess.\n",
            "No module named 'jpype'\n"
          ]
        },
        {
          "data": {
            "application/vnd.microsoft.datawrangler.viewer.v0+json": {
              "columns": [
                {
                  "name": "index",
                  "rawType": "int64",
                  "type": "integer"
                },
                {
                  "name": "Periodo",
                  "rawType": "object",
                  "type": "string"
                },
                {
                  "name": "Cod_Asignatura",
                  "rawType": "object",
                  "type": "string"
                },
                {
                  "name": "Nom_Asignatura",
                  "rawType": "object",
                  "type": "string"
                },
                {
                  "name": "Creditos",
                  "rawType": "int32",
                  "type": "integer"
                },
                {
                  "name": "Calificacion",
                  "rawType": "float64",
                  "type": "float"
                },
                {
                  "name": "Tipología",
                  "rawType": "object",
                  "type": "string"
                }
              ],
              "conversionMethod": "pd.DataFrame",
              "ref": "29f2e1fb-a786-4367-82ef-4c1c62f96c49",
              "rows": [
                [
                  "2",
                  "2019-2S",
                  "2016377",
                  "Cálculo diferencial en una variable",
                  "4",
                  "4.4",
                  "Fund. Obligatoria\r(B)"
                ],
                [
                  "3",
                  "2019-2S",
                  "2015172",
                  "Geometría elemental",
                  "4",
                  "4.5",
                  "Fund. Optativa (O)"
                ],
                [
                  "4",
                  "2019-2S",
                  "2015168",
                  "Fundamentos de matemáticas",
                  "4",
                  "4.3",
                  "Fund. Obligatoria\r(B)"
                ],
                [
                  "7",
                  "2020-1S",
                  "2015556",
                  "Cálculo integral en una variable",
                  "4",
                  "4.1",
                  "Fund. Obligatoria\r(B)"
                ],
                [
                  "10",
                  "2020-2S",
                  "2015180",
                  "Programación y métodos numéricos",
                  "4",
                  "4.7",
                  "Fund. Obligatoria\r(B)"
                ],
                [
                  "11",
                  "2020-2S",
                  "2015555",
                  "Álgebra lineal básica",
                  "4",
                  "3.4",
                  "Fund. Obligatoria\r(B)"
                ],
                [
                  "12",
                  "2020-2S",
                  "2015181",
                  "Sistemas numéricos",
                  "4",
                  "3.9",
                  "Fund. Obligatoria\r(B)"
                ],
                [
                  "16",
                  "2021-1S",
                  "2025819",
                  "Introducción a la teoría de conjuntos",
                  "4",
                  "3.5",
                  "Fund. Obligatoria\r(B)"
                ],
                [
                  "17",
                  "2021-1S",
                  "2015176",
                  "Mecanica newtoniana",
                  "4",
                  "4.6",
                  "Fund. Obligatoria\r(B)"
                ],
                [
                  "18",
                  "2021-1S",
                  "2015162",
                  "Calculo vectorial",
                  "4",
                  "4.2",
                  "Fund. Obligatoria\r(B)"
                ],
                [
                  "22",
                  "2021-2S",
                  "2026555",
                  "Algebra abstracta y computacional",
                  "4",
                  "4.3",
                  "Libre Elección (L)"
                ],
                [
                  "23",
                  "2021-2S",
                  "2016342",
                  "Cálculo de Ecuaciones Diferenciales Ordinaria",
                  "4",
                  "4.4",
                  "Fund. Obligatoria"
                ],
                [
                  "26",
                  "2022-1S",
                  "2015152",
                  "Grupos y anillos",
                  "4",
                  "4.5",
                  "Obligatoria (C)"
                ],
                [
                  "27",
                  "2022-1S",
                  "2015178",
                  "Probabilidad",
                  "4",
                  "4.0",
                  "(B)"
                ],
                [
                  "28",
                  "2022-1S",
                  "2015174",
                  "Introducción a la teoría de la computación",
                  "4",
                  "5.0",
                  "Disciplinar Optativa"
                ],
                [
                  "30",
                  "2021-2S",
                  "2015155",
                  "Introducción al análisis real",
                  "4",
                  "5.0",
                  "Obligatoria (C)"
                ],
                [
                  "32",
                  "2022-2S",
                  "2025384",
                  "Epistemología e historia de las matemáticas",
                  "4",
                  "4.8",
                  "Disciplinar Optativa"
                ],
                [
                  "34",
                  "2022-2S",
                  "2015184",
                  "Teoría de grafos",
                  "4",
                  "4.7",
                  "(T)"
                ],
                [
                  "35",
                  "2022-2S",
                  "2015153",
                  "Integración  y series",
                  "4",
                  "4.7",
                  "Obligatoria (C)"
                ],
                [
                  "36",
                  "2023-1S",
                  "2015157",
                  "Teoría de cuerpos",
                  "4",
                  "4.2",
                  "Obligatoria (C)"
                ],
                [
                  "37",
                  "2023-1S",
                  "2016375",
                  "Programación orientada a objetos",
                  "3",
                  "5.0",
                  "Libre Elección (L)"
                ],
                [
                  "38",
                  "2023-1S",
                  "2015159",
                  "Variable compleja",
                  "4",
                  "4.4",
                  "Obligatoria (C)"
                ],
                [
                  "39",
                  "2023-1S",
                  "2015158",
                  "Topología general",
                  "4",
                  "4.4",
                  "Obligatoria (C)"
                ],
                [
                  "44",
                  "2023-2S",
                  "2015149",
                  "Algebra multilineal y formas canónicas",
                  "4",
                  "4.0",
                  "Disciplinar\rObligatoria (C)"
                ],
                [
                  "45",
                  "2023-2S",
                  "2026573",
                  "Introducción a las ciencias de la computación",
                  "3",
                  "4.2",
                  "Libre Elección (L)"
                ],
                [
                  "46",
                  "2023-2S",
                  "2026054",
                  "Inglés Intensivo I",
                  "4",
                  "4.1",
                  "Libre Elección (L)"
                ],
                [
                  "47",
                  "2023-2S",
                  "2015151",
                  "Análisis vectorial",
                  "4",
                  "3.7",
                  "Disciplinar\rObligatoria (C)"
                ],
                [
                  "50",
                  "2024-1S",
                  "2015156",
                  "Lógica matemática",
                  "4",
                  "4.5",
                  "Disciplinar\rObligatoria (C)"
                ],
                [
                  "51",
                  "2024-1S",
                  "2027629",
                  "Lógica computacional",
                  "3",
                  "4.5",
                  "Libre Elección (L)"
                ],
                [
                  "52",
                  "2024-1S",
                  "2019072",
                  "Análisis numérico I",
                  "4",
                  "4.0",
                  "Disciplinar\rObligatoria (C)"
                ],
                [
                  "53",
                  "2024-1S",
                  "2017653",
                  "Propedéutica",
                  "4",
                  "4.5",
                  "Libre Elección (L)"
                ],
                [
                  "57",
                  "2024-2S",
                  "2019082",
                  "Modelos matemáticos I",
                  "4",
                  "4.4",
                  "Disciplinar Optativa\r(T)"
                ],
                [
                  "58",
                  "2024-2S",
                  "2019095",
                  "Topología algebraica",
                  "4",
                  "4.0",
                  "Libre Elección (L)"
                ]
              ],
              "shape": {
                "columns": 6,
                "rows": 33
              }
            },
            "text/html": [
              "<div>\n",
              "<style scoped>\n",
              "    .dataframe tbody tr th:only-of-type {\n",
              "        vertical-align: middle;\n",
              "    }\n",
              "\n",
              "    .dataframe tbody tr th {\n",
              "        vertical-align: top;\n",
              "    }\n",
              "\n",
              "    .dataframe thead th {\n",
              "        text-align: right;\n",
              "    }\n",
              "</style>\n",
              "<table border=\"1\" class=\"dataframe\">\n",
              "  <thead>\n",
              "    <tr style=\"text-align: right;\">\n",
              "      <th></th>\n",
              "      <th>Periodo</th>\n",
              "      <th>Cod_Asignatura</th>\n",
              "      <th>Nom_Asignatura</th>\n",
              "      <th>Creditos</th>\n",
              "      <th>Calificacion</th>\n",
              "      <th>Tipología</th>\n",
              "    </tr>\n",
              "  </thead>\n",
              "  <tbody>\n",
              "    <tr>\n",
              "      <th>2</th>\n",
              "      <td>2019-2S</td>\n",
              "      <td>2016377</td>\n",
              "      <td>Cálculo diferencial en una variable</td>\n",
              "      <td>4</td>\n",
              "      <td>4.4</td>\n",
              "      <td>Fund. Obligatoria\\r(B)</td>\n",
              "    </tr>\n",
              "    <tr>\n",
              "      <th>3</th>\n",
              "      <td>2019-2S</td>\n",
              "      <td>2015172</td>\n",
              "      <td>Geometría elemental</td>\n",
              "      <td>4</td>\n",
              "      <td>4.5</td>\n",
              "      <td>Fund. Optativa (O)</td>\n",
              "    </tr>\n",
              "    <tr>\n",
              "      <th>4</th>\n",
              "      <td>2019-2S</td>\n",
              "      <td>2015168</td>\n",
              "      <td>Fundamentos de matemáticas</td>\n",
              "      <td>4</td>\n",
              "      <td>4.3</td>\n",
              "      <td>Fund. Obligatoria\\r(B)</td>\n",
              "    </tr>\n",
              "    <tr>\n",
              "      <th>7</th>\n",
              "      <td>2020-1S</td>\n",
              "      <td>2015556</td>\n",
              "      <td>Cálculo integral en una variable</td>\n",
              "      <td>4</td>\n",
              "      <td>4.1</td>\n",
              "      <td>Fund. Obligatoria\\r(B)</td>\n",
              "    </tr>\n",
              "    <tr>\n",
              "      <th>10</th>\n",
              "      <td>2020-2S</td>\n",
              "      <td>2015180</td>\n",
              "      <td>Programación y métodos numéricos</td>\n",
              "      <td>4</td>\n",
              "      <td>4.7</td>\n",
              "      <td>Fund. Obligatoria\\r(B)</td>\n",
              "    </tr>\n",
              "    <tr>\n",
              "      <th>11</th>\n",
              "      <td>2020-2S</td>\n",
              "      <td>2015555</td>\n",
              "      <td>Álgebra lineal básica</td>\n",
              "      <td>4</td>\n",
              "      <td>3.4</td>\n",
              "      <td>Fund. Obligatoria\\r(B)</td>\n",
              "    </tr>\n",
              "    <tr>\n",
              "      <th>12</th>\n",
              "      <td>2020-2S</td>\n",
              "      <td>2015181</td>\n",
              "      <td>Sistemas numéricos</td>\n",
              "      <td>4</td>\n",
              "      <td>3.9</td>\n",
              "      <td>Fund. Obligatoria\\r(B)</td>\n",
              "    </tr>\n",
              "    <tr>\n",
              "      <th>16</th>\n",
              "      <td>2021-1S</td>\n",
              "      <td>2025819</td>\n",
              "      <td>Introducción a la teoría de conjuntos</td>\n",
              "      <td>4</td>\n",
              "      <td>3.5</td>\n",
              "      <td>Fund. Obligatoria\\r(B)</td>\n",
              "    </tr>\n",
              "    <tr>\n",
              "      <th>17</th>\n",
              "      <td>2021-1S</td>\n",
              "      <td>2015176</td>\n",
              "      <td>Mecanica newtoniana</td>\n",
              "      <td>4</td>\n",
              "      <td>4.6</td>\n",
              "      <td>Fund. Obligatoria\\r(B)</td>\n",
              "    </tr>\n",
              "    <tr>\n",
              "      <th>18</th>\n",
              "      <td>2021-1S</td>\n",
              "      <td>2015162</td>\n",
              "      <td>Calculo vectorial</td>\n",
              "      <td>4</td>\n",
              "      <td>4.2</td>\n",
              "      <td>Fund. Obligatoria\\r(B)</td>\n",
              "    </tr>\n",
              "    <tr>\n",
              "      <th>22</th>\n",
              "      <td>2021-2S</td>\n",
              "      <td>2026555</td>\n",
              "      <td>Algebra abstracta y computacional</td>\n",
              "      <td>4</td>\n",
              "      <td>4.3</td>\n",
              "      <td>Libre Elección (L)</td>\n",
              "    </tr>\n",
              "    <tr>\n",
              "      <th>23</th>\n",
              "      <td>2021-2S</td>\n",
              "      <td>2016342</td>\n",
              "      <td>Cálculo de Ecuaciones Diferenciales Ordinaria</td>\n",
              "      <td>4</td>\n",
              "      <td>4.4</td>\n",
              "      <td>Fund. Obligatoria</td>\n",
              "    </tr>\n",
              "    <tr>\n",
              "      <th>26</th>\n",
              "      <td>2022-1S</td>\n",
              "      <td>2015152</td>\n",
              "      <td>Grupos y anillos</td>\n",
              "      <td>4</td>\n",
              "      <td>4.5</td>\n",
              "      <td>Obligatoria (C)</td>\n",
              "    </tr>\n",
              "    <tr>\n",
              "      <th>27</th>\n",
              "      <td>2022-1S</td>\n",
              "      <td>2015178</td>\n",
              "      <td>Probabilidad</td>\n",
              "      <td>4</td>\n",
              "      <td>4.0</td>\n",
              "      <td>(B)</td>\n",
              "    </tr>\n",
              "    <tr>\n",
              "      <th>28</th>\n",
              "      <td>2022-1S</td>\n",
              "      <td>2015174</td>\n",
              "      <td>Introducción a la teoría de la computación</td>\n",
              "      <td>4</td>\n",
              "      <td>5.0</td>\n",
              "      <td>Disciplinar Optativa</td>\n",
              "    </tr>\n",
              "    <tr>\n",
              "      <th>30</th>\n",
              "      <td>2021-2S</td>\n",
              "      <td>2015155</td>\n",
              "      <td>Introducción al análisis real</td>\n",
              "      <td>4</td>\n",
              "      <td>5.0</td>\n",
              "      <td>Obligatoria (C)</td>\n",
              "    </tr>\n",
              "    <tr>\n",
              "      <th>32</th>\n",
              "      <td>2022-2S</td>\n",
              "      <td>2025384</td>\n",
              "      <td>Epistemología e historia de las matemáticas</td>\n",
              "      <td>4</td>\n",
              "      <td>4.8</td>\n",
              "      <td>Disciplinar Optativa</td>\n",
              "    </tr>\n",
              "    <tr>\n",
              "      <th>34</th>\n",
              "      <td>2022-2S</td>\n",
              "      <td>2015184</td>\n",
              "      <td>Teoría de grafos</td>\n",
              "      <td>4</td>\n",
              "      <td>4.7</td>\n",
              "      <td>(T)</td>\n",
              "    </tr>\n",
              "    <tr>\n",
              "      <th>35</th>\n",
              "      <td>2022-2S</td>\n",
              "      <td>2015153</td>\n",
              "      <td>Integración  y series</td>\n",
              "      <td>4</td>\n",
              "      <td>4.7</td>\n",
              "      <td>Obligatoria (C)</td>\n",
              "    </tr>\n",
              "    <tr>\n",
              "      <th>36</th>\n",
              "      <td>2023-1S</td>\n",
              "      <td>2015157</td>\n",
              "      <td>Teoría de cuerpos</td>\n",
              "      <td>4</td>\n",
              "      <td>4.2</td>\n",
              "      <td>Obligatoria (C)</td>\n",
              "    </tr>\n",
              "    <tr>\n",
              "      <th>37</th>\n",
              "      <td>2023-1S</td>\n",
              "      <td>2016375</td>\n",
              "      <td>Programación orientada a objetos</td>\n",
              "      <td>3</td>\n",
              "      <td>5.0</td>\n",
              "      <td>Libre Elección (L)</td>\n",
              "    </tr>\n",
              "    <tr>\n",
              "      <th>38</th>\n",
              "      <td>2023-1S</td>\n",
              "      <td>2015159</td>\n",
              "      <td>Variable compleja</td>\n",
              "      <td>4</td>\n",
              "      <td>4.4</td>\n",
              "      <td>Obligatoria (C)</td>\n",
              "    </tr>\n",
              "    <tr>\n",
              "      <th>39</th>\n",
              "      <td>2023-1S</td>\n",
              "      <td>2015158</td>\n",
              "      <td>Topología general</td>\n",
              "      <td>4</td>\n",
              "      <td>4.4</td>\n",
              "      <td>Obligatoria (C)</td>\n",
              "    </tr>\n",
              "    <tr>\n",
              "      <th>44</th>\n",
              "      <td>2023-2S</td>\n",
              "      <td>2015149</td>\n",
              "      <td>Algebra multilineal y formas canónicas</td>\n",
              "      <td>4</td>\n",
              "      <td>4.0</td>\n",
              "      <td>Disciplinar\\rObligatoria (C)</td>\n",
              "    </tr>\n",
              "    <tr>\n",
              "      <th>45</th>\n",
              "      <td>2023-2S</td>\n",
              "      <td>2026573</td>\n",
              "      <td>Introducción a las ciencias de la computación</td>\n",
              "      <td>3</td>\n",
              "      <td>4.2</td>\n",
              "      <td>Libre Elección (L)</td>\n",
              "    </tr>\n",
              "    <tr>\n",
              "      <th>46</th>\n",
              "      <td>2023-2S</td>\n",
              "      <td>2026054</td>\n",
              "      <td>Inglés Intensivo I</td>\n",
              "      <td>4</td>\n",
              "      <td>4.1</td>\n",
              "      <td>Libre Elección (L)</td>\n",
              "    </tr>\n",
              "    <tr>\n",
              "      <th>47</th>\n",
              "      <td>2023-2S</td>\n",
              "      <td>2015151</td>\n",
              "      <td>Análisis vectorial</td>\n",
              "      <td>4</td>\n",
              "      <td>3.7</td>\n",
              "      <td>Disciplinar\\rObligatoria (C)</td>\n",
              "    </tr>\n",
              "    <tr>\n",
              "      <th>50</th>\n",
              "      <td>2024-1S</td>\n",
              "      <td>2015156</td>\n",
              "      <td>Lógica matemática</td>\n",
              "      <td>4</td>\n",
              "      <td>4.5</td>\n",
              "      <td>Disciplinar\\rObligatoria (C)</td>\n",
              "    </tr>\n",
              "    <tr>\n",
              "      <th>51</th>\n",
              "      <td>2024-1S</td>\n",
              "      <td>2027629</td>\n",
              "      <td>Lógica computacional</td>\n",
              "      <td>3</td>\n",
              "      <td>4.5</td>\n",
              "      <td>Libre Elección (L)</td>\n",
              "    </tr>\n",
              "    <tr>\n",
              "      <th>52</th>\n",
              "      <td>2024-1S</td>\n",
              "      <td>2019072</td>\n",
              "      <td>Análisis numérico I</td>\n",
              "      <td>4</td>\n",
              "      <td>4.0</td>\n",
              "      <td>Disciplinar\\rObligatoria (C)</td>\n",
              "    </tr>\n",
              "    <tr>\n",
              "      <th>53</th>\n",
              "      <td>2024-1S</td>\n",
              "      <td>2017653</td>\n",
              "      <td>Propedéutica</td>\n",
              "      <td>4</td>\n",
              "      <td>4.5</td>\n",
              "      <td>Libre Elección (L)</td>\n",
              "    </tr>\n",
              "    <tr>\n",
              "      <th>57</th>\n",
              "      <td>2024-2S</td>\n",
              "      <td>2019082</td>\n",
              "      <td>Modelos matemáticos I</td>\n",
              "      <td>4</td>\n",
              "      <td>4.4</td>\n",
              "      <td>Disciplinar Optativa\\r(T)</td>\n",
              "    </tr>\n",
              "    <tr>\n",
              "      <th>58</th>\n",
              "      <td>2024-2S</td>\n",
              "      <td>2019095</td>\n",
              "      <td>Topología algebraica</td>\n",
              "      <td>4</td>\n",
              "      <td>4.0</td>\n",
              "      <td>Libre Elección (L)</td>\n",
              "    </tr>\n",
              "  </tbody>\n",
              "</table>\n",
              "</div>"
            ],
            "text/plain": [
              "0   Periodo Cod_Asignatura                                 Nom_Asignatura  \\\n",
              "2   2019-2S        2016377            Cálculo diferencial en una variable   \n",
              "3   2019-2S        2015172                            Geometría elemental   \n",
              "4   2019-2S        2015168                     Fundamentos de matemáticas   \n",
              "7   2020-1S        2015556               Cálculo integral en una variable   \n",
              "10  2020-2S        2015180               Programación y métodos numéricos   \n",
              "11  2020-2S        2015555                          Álgebra lineal básica   \n",
              "12  2020-2S        2015181                             Sistemas numéricos   \n",
              "16  2021-1S        2025819          Introducción a la teoría de conjuntos   \n",
              "17  2021-1S        2015176                            Mecanica newtoniana   \n",
              "18  2021-1S        2015162                              Calculo vectorial   \n",
              "22  2021-2S        2026555              Algebra abstracta y computacional   \n",
              "23  2021-2S        2016342  Cálculo de Ecuaciones Diferenciales Ordinaria   \n",
              "26  2022-1S        2015152                               Grupos y anillos   \n",
              "27  2022-1S        2015178                                   Probabilidad   \n",
              "28  2022-1S        2015174     Introducción a la teoría de la computación   \n",
              "30  2021-2S        2015155                  Introducción al análisis real   \n",
              "32  2022-2S        2025384    Epistemología e historia de las matemáticas   \n",
              "34  2022-2S        2015184                               Teoría de grafos   \n",
              "35  2022-2S        2015153                          Integración  y series   \n",
              "36  2023-1S        2015157                              Teoría de cuerpos   \n",
              "37  2023-1S        2016375               Programación orientada a objetos   \n",
              "38  2023-1S        2015159                              Variable compleja   \n",
              "39  2023-1S        2015158                              Topología general   \n",
              "44  2023-2S        2015149         Algebra multilineal y formas canónicas   \n",
              "45  2023-2S        2026573  Introducción a las ciencias de la computación   \n",
              "46  2023-2S        2026054                             Inglés Intensivo I   \n",
              "47  2023-2S        2015151                             Análisis vectorial   \n",
              "50  2024-1S        2015156                              Lógica matemática   \n",
              "51  2024-1S        2027629                           Lógica computacional   \n",
              "52  2024-1S        2019072                            Análisis numérico I   \n",
              "53  2024-1S        2017653                                   Propedéutica   \n",
              "57  2024-2S        2019082                          Modelos matemáticos I   \n",
              "58  2024-2S        2019095                           Topología algebraica   \n",
              "\n",
              "0   Creditos  Calificacion                     Tipología  \n",
              "2          4           4.4        Fund. Obligatoria\\r(B)  \n",
              "3          4           4.5            Fund. Optativa (O)  \n",
              "4          4           4.3        Fund. Obligatoria\\r(B)  \n",
              "7          4           4.1        Fund. Obligatoria\\r(B)  \n",
              "10         4           4.7        Fund. Obligatoria\\r(B)  \n",
              "11         4           3.4        Fund. Obligatoria\\r(B)  \n",
              "12         4           3.9        Fund. Obligatoria\\r(B)  \n",
              "16         4           3.5        Fund. Obligatoria\\r(B)  \n",
              "17         4           4.6        Fund. Obligatoria\\r(B)  \n",
              "18         4           4.2        Fund. Obligatoria\\r(B)  \n",
              "22         4           4.3            Libre Elección (L)  \n",
              "23         4           4.4             Fund. Obligatoria  \n",
              "26         4           4.5               Obligatoria (C)  \n",
              "27         4           4.0                           (B)  \n",
              "28         4           5.0          Disciplinar Optativa  \n",
              "30         4           5.0               Obligatoria (C)  \n",
              "32         4           4.8          Disciplinar Optativa  \n",
              "34         4           4.7                           (T)  \n",
              "35         4           4.7               Obligatoria (C)  \n",
              "36         4           4.2               Obligatoria (C)  \n",
              "37         3           5.0            Libre Elección (L)  \n",
              "38         4           4.4               Obligatoria (C)  \n",
              "39         4           4.4               Obligatoria (C)  \n",
              "44         4           4.0  Disciplinar\\rObligatoria (C)  \n",
              "45         3           4.2            Libre Elección (L)  \n",
              "46         4           4.1            Libre Elección (L)  \n",
              "47         4           3.7  Disciplinar\\rObligatoria (C)  \n",
              "50         4           4.5  Disciplinar\\rObligatoria (C)  \n",
              "51         3           4.5            Libre Elección (L)  \n",
              "52         4           4.0  Disciplinar\\rObligatoria (C)  \n",
              "53         4           4.5            Libre Elección (L)  \n",
              "57         4           4.4     Disciplinar Optativa\\r(T)  \n",
              "58         4           4.0            Libre Elección (L)  "
            ]
          },
          "execution_count": 1,
          "metadata": {},
          "output_type": "execute_result"
        }
      ],
      "source": [
        "from funciones_estudio import *\n",
        "info_estudiante, asignaturas_estudiante = Obtener_Informacion_PDF(\"Uploaded_Files/Plan1.pdf\")\n",
        "asignaturas_estudiante"
      ]
    },
    {
      "cell_type": "code",
      "execution_count": 1,
      "metadata": {},
      "outputs": [
        {
          "name": "stderr",
          "output_type": "stream",
          "text": [
            "c:\\Users\\aleja\\Documents\\GitHub\\DTApp\\funciones_estudio.py:138: SyntaxWarning: invalid escape sequence '\\s'\n",
            "  exp_regular = f\"{asignaturas_estudiante.loc[index,\"Nom_Asignatura\"]}\\s*\\((\\d+)(?:-[A-Z])?\\)\"\n",
            "Failed to import jpype dependencies. Fallback to subprocess.\n",
            "No module named 'jpype'\n"
          ]
        },
        {
          "data": {
            "application/vnd.microsoft.datawrangler.viewer.v0+json": {
              "columns": [
                {
                  "name": "index",
                  "rawType": "int64",
                  "type": "integer"
                },
                {
                  "name": "Periodo Académico",
                  "rawType": "object",
                  "type": "string"
                },
                {
                  "name": "Código",
                  "rawType": "object",
                  "type": "string"
                },
                {
                  "name": "Asignatura",
                  "rawType": "object",
                  "type": "string"
                },
                {
                  "name": "Código_CC",
                  "rawType": "object",
                  "type": "unknown"
                },
                {
                  "name": "Asignatura_CC",
                  "rawType": "object",
                  "type": "string"
                },
                {
                  "name": "Agrupación",
                  "rawType": "object",
                  "type": "string"
                },
                {
                  "name": "Nota",
                  "rawType": "float64",
                  "type": "float"
                },
                {
                  "name": "Tipo",
                  "rawType": "object",
                  "type": "string"
                },
                {
                  "name": "Créditos",
                  "rawType": "object",
                  "type": "unknown"
                }
              ],
              "conversionMethod": "pd.DataFrame",
              "ref": "ecc9c0c2-2e8e-495d-a97f-e7ca6a42d335",
              "rows": [
                [
                  "0",
                  "2024-1S",
                  "1000013",
                  "Probabilidad y Estadística Fundamental",
                  "1000013",
                  "Probabilidad y Estadística Fundamental",
                  "CIENCIAS NATURALES Y ESTADÍSTICA",
                  "3.5",
                  "O",
                  "3"
                ]
              ],
              "shape": {
                "columns": 9,
                "rows": 1
              }
            },
            "text/html": [
              "<div>\n",
              "<style scoped>\n",
              "    .dataframe tbody tr th:only-of-type {\n",
              "        vertical-align: middle;\n",
              "    }\n",
              "\n",
              "    .dataframe tbody tr th {\n",
              "        vertical-align: top;\n",
              "    }\n",
              "\n",
              "    .dataframe thead th {\n",
              "        text-align: right;\n",
              "    }\n",
              "</style>\n",
              "<table border=\"1\" class=\"dataframe\">\n",
              "  <thead>\n",
              "    <tr style=\"text-align: right;\">\n",
              "      <th></th>\n",
              "      <th>Periodo Académico</th>\n",
              "      <th>Código</th>\n",
              "      <th>Asignatura</th>\n",
              "      <th>Código_CC</th>\n",
              "      <th>Asignatura_CC</th>\n",
              "      <th>Agrupación</th>\n",
              "      <th>Nota</th>\n",
              "      <th>Tipo</th>\n",
              "      <th>Créditos</th>\n",
              "    </tr>\n",
              "  </thead>\n",
              "  <tbody>\n",
              "    <tr>\n",
              "      <th>0</th>\n",
              "      <td>2024-1S</td>\n",
              "      <td>1000013</td>\n",
              "      <td>Probabilidad y Estadística Fundamental</td>\n",
              "      <td>1000013</td>\n",
              "      <td>Probabilidad y Estadística Fundamental</td>\n",
              "      <td>CIENCIAS NATURALES Y ESTADÍSTICA</td>\n",
              "      <td>3.5</td>\n",
              "      <td>O</td>\n",
              "      <td>3</td>\n",
              "    </tr>\n",
              "  </tbody>\n",
              "</table>\n",
              "</div>"
            ],
            "text/plain": [
              "  Periodo Académico   Código                              Asignatura  \\\n",
              "0           2024-1S  1000013  Probabilidad y Estadística Fundamental   \n",
              "\n",
              "  Código_CC                           Asignatura_CC  \\\n",
              "0   1000013  Probabilidad y Estadística Fundamental   \n",
              "\n",
              "                         Agrupación  Nota Tipo Créditos  \n",
              "0  CIENCIAS NATURALES Y ESTADÍSTICA   3.5    O        3  "
            ]
          },
          "execution_count": 1,
          "metadata": {},
          "output_type": "execute_result"
        }
      ],
      "source": [
        "from funciones_estudio import *\n",
        "Actualizar_Historia(\"Uploaded_Files/Plan1.pdf\",\"Uploaded_Files/Plan2.pdf\")"
      ]
    }
  ],
  "metadata": {
    "colab": {
      "provenance": []
    },
    "kernelspec": {
      "display_name": "Python 3",
      "name": "python3"
    },
    "language_info": {
      "codemirror_mode": {
        "name": "ipython",
        "version": 3
      },
      "file_extension": ".py",
      "mimetype": "text/x-python",
      "name": "python",
      "nbconvert_exporter": "python",
      "pygments_lexer": "ipython3",
      "version": "3.12.0"
    }
  },
  "nbformat": 4,
  "nbformat_minor": 0
}
