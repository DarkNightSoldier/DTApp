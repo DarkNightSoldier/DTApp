{
  "cells": [
    {
      "cell_type": "code",
      "execution_count": 72,
      "metadata": {
        "colab": {
          "base_uri": "https://localhost:8080/",
          "height": 89
        },
        "id": "eW8a62WPS0QE",
        "outputId": "a845ffa7-205b-45d1-be1f-a39af50989a6"
      },
      "outputs": [
        {
          "data": {
            "application/vnd.microsoft.datawrangler.viewer.v0+json": {
              "columns": [
                {
                  "name": "index",
                  "rawType": "int64",
                  "type": "integer"
                },
                {
                  "name": "Codigo_plan",
                  "rawType": "int64",
                  "type": "integer"
                },
                {
                  "name": "Nombre_plan",
                  "rawType": "object",
                  "type": "string"
                }
              ],
              "conversionMethod": "pd.DataFrame",
              "ref": "f02e5099-cf4d-45c9-a948-b814800ea27d",
              "rows": [
                [
                  "0",
                  "2933",
                  "Ciencias de la Computación"
                ]
              ],
              "shape": {
                "columns": 2,
                "rows": 1
              }
            },
            "text/html": [
              "<div>\n",
              "<style scoped>\n",
              "    .dataframe tbody tr th:only-of-type {\n",
              "        vertical-align: middle;\n",
              "    }\n",
              "\n",
              "    .dataframe tbody tr th {\n",
              "        vertical-align: top;\n",
              "    }\n",
              "\n",
              "    .dataframe thead th {\n",
              "        text-align: right;\n",
              "    }\n",
              "</style>\n",
              "<table border=\"1\" class=\"dataframe\">\n",
              "  <thead>\n",
              "    <tr style=\"text-align: right;\">\n",
              "      <th></th>\n",
              "      <th>Codigo_plan</th>\n",
              "      <th>Nombre_plan</th>\n",
              "    </tr>\n",
              "  </thead>\n",
              "  <tbody>\n",
              "    <tr>\n",
              "      <th>0</th>\n",
              "      <td>2933</td>\n",
              "      <td>Ciencias de la Computación</td>\n",
              "    </tr>\n",
              "  </tbody>\n",
              "</table>\n",
              "</div>"
            ],
            "text/plain": [
              "   Codigo_plan                 Nombre_plan\n",
              "0         2933  Ciencias de la Computación"
            ]
          },
          "execution_count": 72,
          "metadata": {},
          "output_type": "execute_result"
        }
      ],
      "source": [
        "import pandas as pd\n",
        "\n",
        "data = [['Codigo_plan','Nombre_plan'],[2933,\"Ciencias de la Computación\"]]\n",
        "\n",
        "Planes_de_estudio = pd.DataFrame(data[1:], columns=data[0],)\n",
        "Planes_de_estudio"
      ]
    },
    {
      "cell_type": "code",
      "execution_count": 73,
      "metadata": {
        "colab": {
          "base_uri": "https://localhost:8080/",
          "height": 363
        },
        "id": "QdDqsjNNUGZR",
        "outputId": "35fd8376-7cf9-4d81-d8b7-8d869389d7f1"
      },
      "outputs": [
        {
          "data": {
            "application/vnd.microsoft.datawrangler.viewer.v0+json": {
              "columns": [
                {
                  "name": "index",
                  "rawType": "int64",
                  "type": "integer"
                },
                {
                  "name": "Nom_Agrupacion",
                  "rawType": "object",
                  "type": "string"
                },
                {
                  "name": "Tipologia",
                  "rawType": "object",
                  "type": "string"
                },
                {
                  "name": "Cant_Obligatorios",
                  "rawType": "int64",
                  "type": "integer"
                },
                {
                  "name": "Cant_Optativos",
                  "rawType": "int64",
                  "type": "integer"
                }
              ],
              "conversionMethod": "pd.DataFrame",
              "ref": "f9a3ece3-d966-426f-bb41-e5241c39aa95",
              "rows": [
                [
                  "0",
                  "MATEMÁTICAS Y ESTRUCTURAS DISCRETAS",
                  "Fundamentación",
                  "40",
                  "8"
                ],
                [
                  "1",
                  "CIENCIAS NATURALES Y ESTADÍSTICA",
                  "Fundamentación",
                  "0",
                  "3"
                ],
                [
                  "2",
                  "PROGRAMACIÓN Y ESTRUCTURAS DE  DATOS",
                  "Fundamentación",
                  "9",
                  "0"
                ],
                [
                  "3",
                  "ALGORITMOS Y TEORÍA DE LA COMPUTACIÓN",
                  "Disciplinar",
                  "11",
                  "3"
                ],
                [
                  "4",
                  "SEGURIDAD INFORMÁTICA Y CODIFICACIÓN",
                  "Disciplinar",
                  "0",
                  "7"
                ],
                [
                  "5",
                  "SISTEMAS OPERATIVOS, DE CÓMPUTO Y COMPILADORES",
                  "Disciplinar",
                  "6",
                  "3"
                ],
                [
                  "6",
                  "COMPUTACIÓN CIENTÍFICA",
                  "Disciplinar",
                  "4",
                  "3"
                ],
                [
                  "7",
                  "COMPUTACIÓN APLICADA",
                  "Disciplinar",
                  "0",
                  "6"
                ],
                [
                  "8",
                  "TRABAJO DE GRADO",
                  "Trabajo de grado",
                  "0",
                  "8"
                ],
                [
                  "9",
                  "LIBRE ELECCIÓN",
                  "Libre Elección",
                  "0",
                  "28"
                ]
              ],
              "shape": {
                "columns": 4,
                "rows": 10
              }
            },
            "text/html": [
              "<div>\n",
              "<style scoped>\n",
              "    .dataframe tbody tr th:only-of-type {\n",
              "        vertical-align: middle;\n",
              "    }\n",
              "\n",
              "    .dataframe tbody tr th {\n",
              "        vertical-align: top;\n",
              "    }\n",
              "\n",
              "    .dataframe thead th {\n",
              "        text-align: right;\n",
              "    }\n",
              "</style>\n",
              "<table border=\"1\" class=\"dataframe\">\n",
              "  <thead>\n",
              "    <tr style=\"text-align: right;\">\n",
              "      <th></th>\n",
              "      <th>Nom_Agrupacion</th>\n",
              "      <th>Tipologia</th>\n",
              "      <th>Cant_Obligatorios</th>\n",
              "      <th>Cant_Optativos</th>\n",
              "    </tr>\n",
              "  </thead>\n",
              "  <tbody>\n",
              "    <tr>\n",
              "      <th>0</th>\n",
              "      <td>MATEMÁTICAS Y ESTRUCTURAS DISCRETAS</td>\n",
              "      <td>Fundamentación</td>\n",
              "      <td>40</td>\n",
              "      <td>8</td>\n",
              "    </tr>\n",
              "    <tr>\n",
              "      <th>1</th>\n",
              "      <td>CIENCIAS NATURALES Y ESTADÍSTICA</td>\n",
              "      <td>Fundamentación</td>\n",
              "      <td>0</td>\n",
              "      <td>3</td>\n",
              "    </tr>\n",
              "    <tr>\n",
              "      <th>2</th>\n",
              "      <td>PROGRAMACIÓN Y ESTRUCTURAS DE  DATOS</td>\n",
              "      <td>Fundamentación</td>\n",
              "      <td>9</td>\n",
              "      <td>0</td>\n",
              "    </tr>\n",
              "    <tr>\n",
              "      <th>3</th>\n",
              "      <td>ALGORITMOS Y TEORÍA DE LA COMPUTACIÓN</td>\n",
              "      <td>Disciplinar</td>\n",
              "      <td>11</td>\n",
              "      <td>3</td>\n",
              "    </tr>\n",
              "    <tr>\n",
              "      <th>4</th>\n",
              "      <td>SEGURIDAD INFORMÁTICA Y CODIFICACIÓN</td>\n",
              "      <td>Disciplinar</td>\n",
              "      <td>0</td>\n",
              "      <td>7</td>\n",
              "    </tr>\n",
              "    <tr>\n",
              "      <th>5</th>\n",
              "      <td>SISTEMAS OPERATIVOS, DE CÓMPUTO Y COMPILADORES</td>\n",
              "      <td>Disciplinar</td>\n",
              "      <td>6</td>\n",
              "      <td>3</td>\n",
              "    </tr>\n",
              "    <tr>\n",
              "      <th>6</th>\n",
              "      <td>COMPUTACIÓN CIENTÍFICA</td>\n",
              "      <td>Disciplinar</td>\n",
              "      <td>4</td>\n",
              "      <td>3</td>\n",
              "    </tr>\n",
              "    <tr>\n",
              "      <th>7</th>\n",
              "      <td>COMPUTACIÓN APLICADA</td>\n",
              "      <td>Disciplinar</td>\n",
              "      <td>0</td>\n",
              "      <td>6</td>\n",
              "    </tr>\n",
              "    <tr>\n",
              "      <th>8</th>\n",
              "      <td>TRABAJO DE GRADO</td>\n",
              "      <td>Trabajo de grado</td>\n",
              "      <td>0</td>\n",
              "      <td>8</td>\n",
              "    </tr>\n",
              "    <tr>\n",
              "      <th>9</th>\n",
              "      <td>LIBRE ELECCIÓN</td>\n",
              "      <td>Libre Elección</td>\n",
              "      <td>0</td>\n",
              "      <td>28</td>\n",
              "    </tr>\n",
              "  </tbody>\n",
              "</table>\n",
              "</div>"
            ],
            "text/plain": [
              "                                   Nom_Agrupacion         Tipologia  \\\n",
              "0             MATEMÁTICAS Y ESTRUCTURAS DISCRETAS    Fundamentación   \n",
              "1                CIENCIAS NATURALES Y ESTADÍSTICA    Fundamentación   \n",
              "2            PROGRAMACIÓN Y ESTRUCTURAS DE  DATOS    Fundamentación   \n",
              "3           ALGORITMOS Y TEORÍA DE LA COMPUTACIÓN       Disciplinar   \n",
              "4            SEGURIDAD INFORMÁTICA Y CODIFICACIÓN       Disciplinar   \n",
              "5  SISTEMAS OPERATIVOS, DE CÓMPUTO Y COMPILADORES       Disciplinar   \n",
              "6                          COMPUTACIÓN CIENTÍFICA       Disciplinar   \n",
              "7                            COMPUTACIÓN APLICADA       Disciplinar   \n",
              "8                                TRABAJO DE GRADO  Trabajo de grado   \n",
              "9                                  LIBRE ELECCIÓN    Libre Elección   \n",
              "\n",
              "   Cant_Obligatorios  Cant_Optativos  \n",
              "0                 40               8  \n",
              "1                  0               3  \n",
              "2                  9               0  \n",
              "3                 11               3  \n",
              "4                  0               7  \n",
              "5                  6               3  \n",
              "6                  4               3  \n",
              "7                  0               6  \n",
              "8                  0               8  \n",
              "9                  0              28  "
            ]
          },
          "execution_count": 73,
          "metadata": {},
          "output_type": "execute_result"
        }
      ],
      "source": [
        "Agrupaciones_CC = pd.read_excel(\"InfoCC.xlsx\",sheet_name=\"Agrupaciones\")\n",
        "Agrupaciones_CC"
      ]
    },
    {
      "cell_type": "code",
      "execution_count": 74,
      "metadata": {
        "colab": {
          "base_uri": "https://localhost:8080/"
        },
        "id": "y57Mfw5MZRXg",
        "outputId": "19b771ab-085a-4a7c-b229-63152d447cff"
      },
      "outputs": [
        {
          "name": "stdout",
          "output_type": "stream",
          "text": [
            "Requirement already satisfied: pandasql in c:\\users\\aleja\\appdata\\local\\programs\\python\\python312\\lib\\site-packages (0.7.3)\n",
            "Requirement already satisfied: numpy in c:\\users\\aleja\\appdata\\local\\programs\\python\\python312\\lib\\site-packages (from pandasql) (1.26.2)\n",
            "Requirement already satisfied: pandas in c:\\users\\aleja\\appdata\\local\\programs\\python\\python312\\lib\\site-packages (from pandasql) (2.2.3)\n",
            "Requirement already satisfied: sqlalchemy in c:\\users\\aleja\\appdata\\local\\programs\\python\\python312\\lib\\site-packages (from pandasql) (2.0.38)\n",
            "Requirement already satisfied: python-dateutil>=2.8.2 in c:\\users\\aleja\\appdata\\local\\programs\\python\\python312\\lib\\site-packages (from pandas->pandasql) (2.8.2)\n",
            "Requirement already satisfied: pytz>=2020.1 in c:\\users\\aleja\\appdata\\local\\programs\\python\\python312\\lib\\site-packages (from pandas->pandasql) (2025.1)\n",
            "Requirement already satisfied: tzdata>=2022.7 in c:\\users\\aleja\\appdata\\local\\programs\\python\\python312\\lib\\site-packages (from pandas->pandasql) (2023.3)\n",
            "Requirement already satisfied: greenlet!=0.4.17 in c:\\users\\aleja\\appdata\\local\\programs\\python\\python312\\lib\\site-packages (from sqlalchemy->pandasql) (3.1.1)\n",
            "Requirement already satisfied: typing-extensions>=4.6.0 in c:\\users\\aleja\\appdata\\local\\programs\\python\\python312\\lib\\site-packages (from sqlalchemy->pandasql) (4.12.2)\n",
            "Requirement already satisfied: six>=1.5 in c:\\users\\aleja\\appdata\\local\\programs\\python\\python312\\lib\\site-packages (from python-dateutil>=2.8.2->pandas->pandasql) (1.16.0)\n"
          ]
        },
        {
          "name": "stderr",
          "output_type": "stream",
          "text": [
            "\n",
            "[notice] A new release of pip is available: 24.3.1 -> 25.0.1\n",
            "[notice] To update, run: python.exe -m pip install --upgrade pip\n"
          ]
        }
      ],
      "source": [
        "!pip install pandasql"
      ]
    },
    {
      "cell_type": "code",
      "execution_count": 75,
      "metadata": {
        "colab": {
          "base_uri": "https://localhost:8080/",
          "height": 423
        },
        "id": "OgCTFx-8Vfnu",
        "outputId": "f706e5ed-ed06-47b2-8372-a03cd6dec30a"
      },
      "outputs": [
        {
          "data": {
            "application/vnd.microsoft.datawrangler.viewer.v0+json": {
              "columns": [
                {
                  "name": "index",
                  "rawType": "int64",
                  "type": "integer"
                },
                {
                  "name": "Cod_Asignatura_CC",
                  "rawType": "int64",
                  "type": "integer"
                },
                {
                  "name": "Nom_Agrupacion",
                  "rawType": "object",
                  "type": "string"
                },
                {
                  "name": "Tipo",
                  "rawType": "object",
                  "type": "string"
                }
              ],
              "conversionMethod": "pd.DataFrame",
              "ref": "5c9d2c00-ff04-40ea-9c16-b205027a795d",
              "rows": [
                [
                  "0",
                  "2015168",
                  "MATEMÁTICAS Y ESTRUCTURAS DISCRETAS",
                  "B"
                ],
                [
                  "1",
                  "2015181",
                  "MATEMÁTICAS Y ESTRUCTURAS DISCRETAS",
                  "B"
                ],
                [
                  "2",
                  "2025819",
                  "MATEMÁTICAS Y ESTRUCTURAS DISCRETAS",
                  "B"
                ],
                [
                  "3",
                  "2015555",
                  "MATEMÁTICAS Y ESTRUCTURAS DISCRETAS",
                  "B"
                ],
                [
                  "4",
                  "2016377",
                  "MATEMÁTICAS Y ESTRUCTURAS DISCRETAS",
                  "B"
                ],
                [
                  "5",
                  "2015556",
                  "MATEMÁTICAS Y ESTRUCTURAS DISCRETAS",
                  "B"
                ],
                [
                  "6",
                  "2015162",
                  "MATEMÁTICAS Y ESTRUCTURAS DISCRETAS",
                  "B"
                ],
                [
                  "7",
                  "2016342",
                  "MATEMÁTICAS Y ESTRUCTURAS DISCRETAS",
                  "B"
                ],
                [
                  "8",
                  "2015155",
                  "MATEMÁTICAS Y ESTRUCTURAS DISCRETAS",
                  "B"
                ],
                [
                  "9",
                  "2015178",
                  "MATEMÁTICAS Y ESTRUCTURAS DISCRETAS",
                  "B"
                ],
                [
                  "10",
                  "2015152",
                  "MATEMÁTICAS Y ESTRUCTURAS DISCRETAS",
                  "O"
                ],
                [
                  "11",
                  "2015184",
                  "MATEMÁTICAS Y ESTRUCTURAS DISCRETAS",
                  "O"
                ],
                [
                  "12",
                  "2027312",
                  "MATEMÁTICAS Y ESTRUCTURAS DISCRETAS",
                  "O"
                ],
                [
                  "13",
                  "2028838",
                  "MATEMÁTICAS Y ESTRUCTURAS DISCRETAS",
                  "O"
                ],
                [
                  "14",
                  "1000010",
                  "CIENCIAS NATURALES Y ESTADÍSTICA",
                  "O"
                ],
                [
                  "15",
                  "1000013",
                  "CIENCIAS NATURALES Y ESTADÍSTICA",
                  "O"
                ],
                [
                  "16",
                  "1000041",
                  "CIENCIAS NATURALES Y ESTADÍSTICA",
                  "O"
                ],
                [
                  "17",
                  "2015176",
                  "CIENCIAS NATURALES Y ESTADÍSTICA",
                  "O"
                ],
                [
                  "18",
                  "2016651",
                  "CIENCIAS NATURALES Y ESTADÍSTICA",
                  "O"
                ],
                [
                  "19",
                  "2022689",
                  "CIENCIAS NATURALES Y ESTADÍSTICA",
                  "O"
                ],
                [
                  "20",
                  "2026573",
                  "PROGRAMACIÓN Y ESTRUCTURAS DE  DATOS",
                  "B"
                ],
                [
                  "21",
                  "2016375",
                  "PROGRAMACIÓN Y ESTRUCTURAS DE  DATOS",
                  "B"
                ],
                [
                  "22",
                  "2016699",
                  "PROGRAMACIÓN Y ESTRUCTURAS DE  DATOS",
                  "B"
                ],
                [
                  "23",
                  "2016696",
                  "ALGORITMOS Y TEORÍA DE LA COMPUTACIÓN",
                  "C"
                ],
                [
                  "24",
                  "2015174",
                  "ALGORITMOS Y TEORÍA DE LA COMPUTACIÓN",
                  "C"
                ],
                [
                  "25",
                  "2026555",
                  "ALGORITMOS Y TEORÍA DE LA COMPUTACIÓN",
                  "C"
                ],
                [
                  "26",
                  "2019267",
                  "ALGORITMOS Y TEORÍA DE LA COMPUTACIÓN",
                  "T"
                ],
                [
                  "27",
                  "2027628",
                  "ALGORITMOS Y TEORÍA DE LA COMPUTACIÓN",
                  "T"
                ],
                [
                  "28",
                  "2027629",
                  "ALGORITMOS Y TEORÍA DE LA COMPUTACIÓN",
                  "T"
                ],
                [
                  "29",
                  "2028641",
                  "ALGORITMOS Y TEORÍA DE LA COMPUTACIÓN",
                  "T"
                ],
                [
                  "30",
                  "2029273",
                  "ALGORITMOS Y TEORÍA DE LA COMPUTACIÓN",
                  "T"
                ],
                [
                  "31",
                  "2029274",
                  "ALGORITMOS Y TEORÍA DE LA COMPUTACIÓN",
                  "T"
                ],
                [
                  "32",
                  "2029275",
                  "ALGORITMOS Y TEORÍA DE LA COMPUTACIÓN",
                  "T"
                ],
                [
                  "33",
                  "2027311",
                  "SEGURIDAD INFORMÁTICA Y CODIFICACIÓN",
                  "T"
                ],
                [
                  "34",
                  "2027310",
                  "SEGURIDAD INFORMÁTICA Y CODIFICACIÓN",
                  "T"
                ],
                [
                  "35",
                  "2027313",
                  "SEGURIDAD INFORMÁTICA Y CODIFICACIÓN",
                  "T"
                ],
                [
                  "36",
                  "2016698",
                  "SISTEMAS OPERATIVOS, DE CÓMPUTO Y COMPILADORES",
                  "C"
                ],
                [
                  "37",
                  "2016707",
                  "SISTEMAS OPERATIVOS, DE CÓMPUTO Y COMPILADORES",
                  "C"
                ],
                [
                  "38",
                  "2016697",
                  "SISTEMAS OPERATIVOS, DE CÓMPUTO Y COMPILADORES",
                  "T"
                ],
                [
                  "39",
                  "2016722",
                  "SISTEMAS OPERATIVOS, DE CÓMPUTO Y COMPILADORES",
                  "T"
                ],
                [
                  "40",
                  "2025966",
                  "SISTEMAS OPERATIVOS, DE CÓMPUTO Y COMPILADORES",
                  "T"
                ],
                [
                  "41",
                  "2027642",
                  "SISTEMAS OPERATIVOS, DE CÓMPUTO Y COMPILADORES",
                  "T"
                ],
                [
                  "42",
                  "2019072",
                  "COMPUTACIÓN CIENTÍFICA",
                  "C"
                ],
                [
                  "43",
                  "2015173",
                  "COMPUTACIÓN CIENTÍFICA",
                  "T"
                ],
                [
                  "44",
                  "2019082",
                  "COMPUTACIÓN CIENTÍFICA",
                  "T"
                ],
                [
                  "45",
                  "2019103",
                  "COMPUTACIÓN CIENTÍFICA",
                  "T"
                ],
                [
                  "46",
                  "2025971",
                  "COMPUTACIÓN CIENTÍFICA",
                  "T"
                ],
                [
                  "47",
                  "2026377",
                  "COMPUTACIÓN CIENTÍFICA",
                  "T"
                ],
                [
                  "48",
                  "2026519",
                  "COMPUTACIÓN CIENTÍFICA",
                  "T"
                ],
                [
                  "49",
                  "2028836",
                  "COMPUTACIÓN CIENTÍFICA",
                  "T"
                ]
              ],
              "shape": {
                "columns": 3,
                "rows": 67
              }
            },
            "text/html": [
              "<div>\n",
              "<style scoped>\n",
              "    .dataframe tbody tr th:only-of-type {\n",
              "        vertical-align: middle;\n",
              "    }\n",
              "\n",
              "    .dataframe tbody tr th {\n",
              "        vertical-align: top;\n",
              "    }\n",
              "\n",
              "    .dataframe thead th {\n",
              "        text-align: right;\n",
              "    }\n",
              "</style>\n",
              "<table border=\"1\" class=\"dataframe\">\n",
              "  <thead>\n",
              "    <tr style=\"text-align: right;\">\n",
              "      <th></th>\n",
              "      <th>Cod_Asignatura_CC</th>\n",
              "      <th>Nom_Agrupacion</th>\n",
              "      <th>Tipo</th>\n",
              "    </tr>\n",
              "  </thead>\n",
              "  <tbody>\n",
              "    <tr>\n",
              "      <th>0</th>\n",
              "      <td>2015168</td>\n",
              "      <td>MATEMÁTICAS Y ESTRUCTURAS DISCRETAS</td>\n",
              "      <td>B</td>\n",
              "    </tr>\n",
              "    <tr>\n",
              "      <th>1</th>\n",
              "      <td>2015181</td>\n",
              "      <td>MATEMÁTICAS Y ESTRUCTURAS DISCRETAS</td>\n",
              "      <td>B</td>\n",
              "    </tr>\n",
              "    <tr>\n",
              "      <th>2</th>\n",
              "      <td>2025819</td>\n",
              "      <td>MATEMÁTICAS Y ESTRUCTURAS DISCRETAS</td>\n",
              "      <td>B</td>\n",
              "    </tr>\n",
              "    <tr>\n",
              "      <th>3</th>\n",
              "      <td>2015555</td>\n",
              "      <td>MATEMÁTICAS Y ESTRUCTURAS DISCRETAS</td>\n",
              "      <td>B</td>\n",
              "    </tr>\n",
              "    <tr>\n",
              "      <th>4</th>\n",
              "      <td>2016377</td>\n",
              "      <td>MATEMÁTICAS Y ESTRUCTURAS DISCRETAS</td>\n",
              "      <td>B</td>\n",
              "    </tr>\n",
              "    <tr>\n",
              "      <th>...</th>\n",
              "      <td>...</td>\n",
              "      <td>...</td>\n",
              "      <td>...</td>\n",
              "    </tr>\n",
              "    <tr>\n",
              "      <th>62</th>\n",
              "      <td>2029090</td>\n",
              "      <td>COMPUTACIÓN APLICADA</td>\n",
              "      <td>T</td>\n",
              "    </tr>\n",
              "    <tr>\n",
              "      <th>63</th>\n",
              "      <td>2029272</td>\n",
              "      <td>COMPUTACIÓN APLICADA</td>\n",
              "      <td>T</td>\n",
              "    </tr>\n",
              "    <tr>\n",
              "      <th>64</th>\n",
              "      <td>2027633</td>\n",
              "      <td>TRABAJO DE GRADO</td>\n",
              "      <td>P</td>\n",
              "    </tr>\n",
              "    <tr>\n",
              "      <th>65</th>\n",
              "      <td>2027634</td>\n",
              "      <td>TRABAJO DE GRADO</td>\n",
              "      <td>P</td>\n",
              "    </tr>\n",
              "    <tr>\n",
              "      <th>66</th>\n",
              "      <td>2027636</td>\n",
              "      <td>TRABAJO DE GRADO</td>\n",
              "      <td>P</td>\n",
              "    </tr>\n",
              "  </tbody>\n",
              "</table>\n",
              "<p>67 rows × 3 columns</p>\n",
              "</div>"
            ],
            "text/plain": [
              "    Cod_Asignatura_CC                       Nom_Agrupacion Tipo\n",
              "0             2015168  MATEMÁTICAS Y ESTRUCTURAS DISCRETAS    B\n",
              "1             2015181  MATEMÁTICAS Y ESTRUCTURAS DISCRETAS    B\n",
              "2             2025819  MATEMÁTICAS Y ESTRUCTURAS DISCRETAS    B\n",
              "3             2015555  MATEMÁTICAS Y ESTRUCTURAS DISCRETAS    B\n",
              "4             2016377  MATEMÁTICAS Y ESTRUCTURAS DISCRETAS    B\n",
              "..                ...                                  ...  ...\n",
              "62            2029090                 COMPUTACIÓN APLICADA    T\n",
              "63            2029272                 COMPUTACIÓN APLICADA    T\n",
              "64            2027633                     TRABAJO DE GRADO    P\n",
              "65            2027634                     TRABAJO DE GRADO    P\n",
              "66            2027636                     TRABAJO DE GRADO    P\n",
              "\n",
              "[67 rows x 3 columns]"
            ]
          },
          "execution_count": 75,
          "metadata": {},
          "output_type": "execute_result"
        }
      ],
      "source": [
        "from pandasql import sqldf\n",
        "\n",
        "Asignaturas_CC = pd.read_excel(\"InfoCC.xlsx\", sheet_name=\"PlanEstudios\")\n",
        "query = '''\n",
        "SELECT\n",
        "    \"Cod_Asignatura\" AS \"Cod_Asignatura_CC\",\n",
        "    \"Nom_Agrupacion\",\n",
        "    Tipo\n",
        "FROM\n",
        "    Asignaturas_CC\n",
        "'''\n",
        "\n",
        "Asignaturas_CC = sqldf(query)\n",
        "\n",
        "Asignaturas_CC\n"
      ]
    },
    {
      "cell_type": "code",
      "execution_count": 76,
      "metadata": {
        "colab": {
          "base_uri": "https://localhost:8080/",
          "height": 269
        },
        "id": "3ZoyTL16aYrJ",
        "outputId": "40e06c16-f760-4563-ef51-741b7ef0e2c1"
      },
      "outputs": [
        {
          "data": {
            "application/vnd.microsoft.datawrangler.viewer.v0+json": {
              "columns": [
                {
                  "name": "index",
                  "rawType": "int64",
                  "type": "integer"
                },
                {
                  "name": "Cod_Asignatura",
                  "rawType": "int64",
                  "type": "integer"
                },
                {
                  "name": "Cod_Asignatura_CC",
                  "rawType": "int64",
                  "type": "integer"
                }
              ],
              "conversionMethod": "pd.DataFrame",
              "ref": "a2575267-eb0a-412e-99b3-5be6e1f338fa",
              "rows": [
                [
                  "0",
                  "1000004",
                  "2016377"
                ],
                [
                  "1",
                  "1000005",
                  "2015556"
                ],
                [
                  "2",
                  "1000006",
                  "2015162"
                ],
                [
                  "3",
                  "1000007",
                  "2016342"
                ],
                [
                  "4",
                  "1000003",
                  "2015555"
                ],
                [
                  "5",
                  "2025972",
                  "2027310"
                ],
                [
                  "6",
                  "2015150",
                  "2019072"
                ],
                [
                  "7",
                  "1000019",
                  "2015176"
                ]
              ],
              "shape": {
                "columns": 2,
                "rows": 8
              }
            },
            "text/html": [
              "<div>\n",
              "<style scoped>\n",
              "    .dataframe tbody tr th:only-of-type {\n",
              "        vertical-align: middle;\n",
              "    }\n",
              "\n",
              "    .dataframe tbody tr th {\n",
              "        vertical-align: top;\n",
              "    }\n",
              "\n",
              "    .dataframe thead th {\n",
              "        text-align: right;\n",
              "    }\n",
              "</style>\n",
              "<table border=\"1\" class=\"dataframe\">\n",
              "  <thead>\n",
              "    <tr style=\"text-align: right;\">\n",
              "      <th></th>\n",
              "      <th>Cod_Asignatura</th>\n",
              "      <th>Cod_Asignatura_CC</th>\n",
              "    </tr>\n",
              "  </thead>\n",
              "  <tbody>\n",
              "    <tr>\n",
              "      <th>0</th>\n",
              "      <td>1000004</td>\n",
              "      <td>2016377</td>\n",
              "    </tr>\n",
              "    <tr>\n",
              "      <th>1</th>\n",
              "      <td>1000005</td>\n",
              "      <td>2015556</td>\n",
              "    </tr>\n",
              "    <tr>\n",
              "      <th>2</th>\n",
              "      <td>1000006</td>\n",
              "      <td>2015162</td>\n",
              "    </tr>\n",
              "    <tr>\n",
              "      <th>3</th>\n",
              "      <td>1000007</td>\n",
              "      <td>2016342</td>\n",
              "    </tr>\n",
              "    <tr>\n",
              "      <th>4</th>\n",
              "      <td>1000003</td>\n",
              "      <td>2015555</td>\n",
              "    </tr>\n",
              "    <tr>\n",
              "      <th>5</th>\n",
              "      <td>2025972</td>\n",
              "      <td>2027310</td>\n",
              "    </tr>\n",
              "    <tr>\n",
              "      <th>6</th>\n",
              "      <td>2015150</td>\n",
              "      <td>2019072</td>\n",
              "    </tr>\n",
              "    <tr>\n",
              "      <th>7</th>\n",
              "      <td>1000019</td>\n",
              "      <td>2015176</td>\n",
              "    </tr>\n",
              "  </tbody>\n",
              "</table>\n",
              "</div>"
            ],
            "text/plain": [
              "   Cod_Asignatura  Cod_Asignatura_CC\n",
              "0         1000004            2016377\n",
              "1         1000005            2015556\n",
              "2         1000006            2015162\n",
              "3         1000007            2016342\n",
              "4         1000003            2015555\n",
              "5         2025972            2027310\n",
              "6         2015150            2019072\n",
              "7         1000019            2015176"
            ]
          },
          "execution_count": 76,
          "metadata": {},
          "output_type": "execute_result"
        }
      ],
      "source": [
        "Equivalencias = pd.read_excel(\"InfoCC.xlsx\", sheet_name=\"Equivalencias\")\n",
        "query = '''\n",
        "SELECT\n",
        "    Cod_Asignatura,\n",
        "    Cod_Asignatura_CC\n",
        "FROM\n",
        "    Equivalencias\n",
        "'''\n",
        "\n",
        "Equivalencias = sqldf(query)\n",
        "\n",
        "Equivalencias"
      ]
    },
    {
      "cell_type": "code",
      "execution_count": 77,
      "metadata": {
        "colab": {
          "base_uri": "https://localhost:8080/",
          "height": 423
        },
        "id": "1aSFFoI0a1u0",
        "outputId": "6f827289-fb8a-467c-aa1b-c9134ee137eb"
      },
      "outputs": [
        {
          "data": {
            "application/vnd.microsoft.datawrangler.viewer.v0+json": {
              "columns": [
                {
                  "name": "index",
                  "rawType": "int64",
                  "type": "integer"
                },
                {
                  "name": "Cod_Asignatura",
                  "rawType": "int64",
                  "type": "integer"
                },
                {
                  "name": "Nom_Asignatura",
                  "rawType": "object",
                  "type": "string"
                },
                {
                  "name": "Creditos",
                  "rawType": "int64",
                  "type": "integer"
                }
              ],
              "conversionMethod": "pd.DataFrame",
              "ref": "2f1daf9e-4d3a-440a-82a1-19f4c1851c26",
              "rows": [
                [
                  "0",
                  "1000003",
                  "Álgebra Lineal",
                  "0"
                ],
                [
                  "1",
                  "1000004",
                  "Cálculo Diferencial",
                  "0"
                ],
                [
                  "2",
                  "1000005",
                  "Cálculo Integral",
                  "0"
                ],
                [
                  "3",
                  "1000006",
                  "Cálculo en Varias Variables",
                  "0"
                ],
                [
                  "4",
                  "1000007",
                  "Ecuaciones Diferenciales",
                  "0"
                ],
                [
                  "5",
                  "1000010",
                  "Biología molecular y celular",
                  "3"
                ],
                [
                  "6",
                  "1000013",
                  "Probabilidad y estadística fundamental",
                  "3"
                ],
                [
                  "7",
                  "1000019",
                  "Fundamentos de Mecánica",
                  "0"
                ],
                [
                  "8",
                  "1000041",
                  "Química básica",
                  "3"
                ],
                [
                  "9",
                  "2015150",
                  "Análisis numérico",
                  "0"
                ],
                [
                  "10",
                  "2015152",
                  "Grupos y anillos",
                  "4"
                ],
                [
                  "11",
                  "2015155",
                  "Introducción al análisis real",
                  "4"
                ],
                [
                  "12",
                  "2015162",
                  "Cálculo vectorial",
                  "4"
                ],
                [
                  "13",
                  "2015168",
                  "Fundamentos de matemáticas",
                  "4"
                ],
                [
                  "14",
                  "2015173",
                  "Introducción a la optimización",
                  "4"
                ],
                [
                  "15",
                  "2015174",
                  "Introducción a la teoría de la computación",
                  "4"
                ],
                [
                  "16",
                  "2015176",
                  "Mecánica newtoniana",
                  "4"
                ],
                [
                  "17",
                  "2015178",
                  "Probabilidad",
                  "4"
                ],
                [
                  "18",
                  "2015181",
                  "Sistemas numéricos",
                  "4"
                ],
                [
                  "19",
                  "2015184",
                  "Teoría de grafos",
                  "4"
                ],
                [
                  "20",
                  "2015555",
                  "Álgebra lineal básica",
                  "4"
                ],
                [
                  "21",
                  "2015556",
                  "Cálculo integral en una variable",
                  "4"
                ],
                [
                  "22",
                  "2016342",
                  "Cálculo de ecuaciones diferenciales ordinarias",
                  "4"
                ],
                [
                  "23",
                  "2016353",
                  "Bases de datos",
                  "3"
                ],
                [
                  "24",
                  "2016375",
                  "Programación orientada a objetos",
                  "3"
                ],
                [
                  "25",
                  "2016377",
                  "Cálculo diferencial en una variable",
                  "4"
                ],
                [
                  "26",
                  "2016651",
                  "Fundamentos de física teórica",
                  "3"
                ],
                [
                  "27",
                  "2016696",
                  "Algoritmos",
                  "3"
                ],
                [
                  "28",
                  "2016697",
                  "Arquitectura de computadores",
                  "3"
                ],
                [
                  "29",
                  "2016698",
                  "Elementos de  computadores",
                  "3"
                ],
                [
                  "30",
                  "2016699",
                  "Estructuras de datos",
                  "3"
                ],
                [
                  "31",
                  "2016701",
                  "Ingeniería de software I",
                  "3"
                ],
                [
                  "32",
                  "2016707",
                  "Sistemas operativos",
                  "3"
                ],
                [
                  "33",
                  "2016722",
                  "Computación paralela y distribuida",
                  "3"
                ],
                [
                  "34",
                  "2019072",
                  "Análisis numérico I",
                  "4"
                ],
                [
                  "35",
                  "2019082",
                  "Modelos matemáticos I",
                  "4"
                ],
                [
                  "36",
                  "2019103",
                  "Análisis numérico II",
                  "4"
                ],
                [
                  "37",
                  "2019267",
                  "Teoría de la recursión",
                  "4"
                ],
                [
                  "38",
                  "2022689",
                  "Fundamentos de física",
                  "3"
                ],
                [
                  "39",
                  "2025196",
                  "Introducción a la biología computacional",
                  "4"
                ],
                [
                  "40",
                  "2025819",
                  "Introducción a la teoría de conjuntos",
                  "4"
                ],
                [
                  "41",
                  "2025960",
                  "Computación visual",
                  "3"
                ],
                [
                  "42",
                  "2025966",
                  "Lenguajes de programación",
                  "3"
                ],
                [
                  "43",
                  "2025967",
                  "Redes de computadores",
                  "3"
                ],
                [
                  "44",
                  "2025971",
                  "Optimización",
                  "3"
                ],
                [
                  "45",
                  "2025972",
                  "Introducción a la Criptografía y a la Seguridad de la Información",
                  "0"
                ],
                [
                  "46",
                  "2025995",
                  "Introducción a los sistemas inteligentes",
                  "3"
                ],
                [
                  "47",
                  "2026377",
                  "Métodos numéricos en finanzas",
                  "4"
                ],
                [
                  "48",
                  "2026519",
                  "Ecuaciones en diferencias finitas y sistemas dinámicos",
                  "4"
                ],
                [
                  "49",
                  "2026555",
                  "Algebra abstracta y computacional",
                  "4"
                ]
              ],
              "shape": {
                "columns": 3,
                "rows": 75
              }
            },
            "text/html": [
              "<div>\n",
              "<style scoped>\n",
              "    .dataframe tbody tr th:only-of-type {\n",
              "        vertical-align: middle;\n",
              "    }\n",
              "\n",
              "    .dataframe tbody tr th {\n",
              "        vertical-align: top;\n",
              "    }\n",
              "\n",
              "    .dataframe thead th {\n",
              "        text-align: right;\n",
              "    }\n",
              "</style>\n",
              "<table border=\"1\" class=\"dataframe\">\n",
              "  <thead>\n",
              "    <tr style=\"text-align: right;\">\n",
              "      <th></th>\n",
              "      <th>Cod_Asignatura</th>\n",
              "      <th>Nom_Asignatura</th>\n",
              "      <th>Creditos</th>\n",
              "    </tr>\n",
              "  </thead>\n",
              "  <tbody>\n",
              "    <tr>\n",
              "      <th>0</th>\n",
              "      <td>1000003</td>\n",
              "      <td>Álgebra Lineal</td>\n",
              "      <td>0</td>\n",
              "    </tr>\n",
              "    <tr>\n",
              "      <th>1</th>\n",
              "      <td>1000004</td>\n",
              "      <td>Cálculo Diferencial</td>\n",
              "      <td>0</td>\n",
              "    </tr>\n",
              "    <tr>\n",
              "      <th>2</th>\n",
              "      <td>1000005</td>\n",
              "      <td>Cálculo Integral</td>\n",
              "      <td>0</td>\n",
              "    </tr>\n",
              "    <tr>\n",
              "      <th>3</th>\n",
              "      <td>1000006</td>\n",
              "      <td>Cálculo en Varias Variables</td>\n",
              "      <td>0</td>\n",
              "    </tr>\n",
              "    <tr>\n",
              "      <th>4</th>\n",
              "      <td>1000007</td>\n",
              "      <td>Ecuaciones Diferenciales</td>\n",
              "      <td>0</td>\n",
              "    </tr>\n",
              "    <tr>\n",
              "      <th>...</th>\n",
              "      <td>...</td>\n",
              "      <td>...</td>\n",
              "      <td>...</td>\n",
              "    </tr>\n",
              "    <tr>\n",
              "      <th>70</th>\n",
              "      <td>2029090</td>\n",
              "      <td>Redes neuronales, arquitecturas y aplicaciones</td>\n",
              "      <td>4</td>\n",
              "    </tr>\n",
              "    <tr>\n",
              "      <th>71</th>\n",
              "      <td>2029272</td>\n",
              "      <td>Práctica Profesional</td>\n",
              "      <td>6</td>\n",
              "    </tr>\n",
              "    <tr>\n",
              "      <th>72</th>\n",
              "      <td>2029273</td>\n",
              "      <td>Advanced data structures</td>\n",
              "      <td>4</td>\n",
              "    </tr>\n",
              "    <tr>\n",
              "      <th>73</th>\n",
              "      <td>2029274</td>\n",
              "      <td>Topics on advanced algorithms</td>\n",
              "      <td>4</td>\n",
              "    </tr>\n",
              "    <tr>\n",
              "      <th>74</th>\n",
              "      <td>2029275</td>\n",
              "      <td>Complejidad computacional</td>\n",
              "      <td>4</td>\n",
              "    </tr>\n",
              "  </tbody>\n",
              "</table>\n",
              "<p>75 rows × 3 columns</p>\n",
              "</div>"
            ],
            "text/plain": [
              "    Cod_Asignatura                                  Nom_Asignatura  Creditos\n",
              "0          1000003                                  Álgebra Lineal         0\n",
              "1          1000004                             Cálculo Diferencial         0\n",
              "2          1000005                                Cálculo Integral         0\n",
              "3          1000006                     Cálculo en Varias Variables         0\n",
              "4          1000007                        Ecuaciones Diferenciales         0\n",
              "..             ...                                             ...       ...\n",
              "70         2029090  Redes neuronales, arquitecturas y aplicaciones         4\n",
              "71         2029272                            Práctica Profesional         6\n",
              "72         2029273                        Advanced data structures         4\n",
              "73         2029274                   Topics on advanced algorithms         4\n",
              "74         2029275                       Complejidad computacional         4\n",
              "\n",
              "[75 rows x 3 columns]"
            ]
          },
          "execution_count": 77,
          "metadata": {},
          "output_type": "execute_result"
        }
      ],
      "source": [
        "Tabla1 = pd.read_excel(\"InfoCC.xlsx\", sheet_name=\"PlanEstudios\")\n",
        "query_1 = '''\n",
        "SELECT\n",
        "    Cod_Asignatura,\n",
        "    Nom_Asignatura,\n",
        "    Creditos\n",
        "FROM\n",
        "    Tabla1\n",
        "'''\n",
        "Tabla1 = sqldf(query_1)\n",
        "Tabla2 = pd.read_excel(\"InfoCC.xlsx\", sheet_name=\"Equivalencias\")\n",
        "query_2 = '''\n",
        "SELECT\n",
        "    Cod_Asignatura,\n",
        "    Nom_Asignatura\n",
        "FROM\n",
        "    Tabla2\n",
        "'''\n",
        "Tabla2 = sqldf(query_2)\n",
        "\n",
        "query_3 = '''\n",
        "SELECT Cod_Asignatura, Nom_Asignatura, Creditos\n",
        "FROM Tabla1\n",
        "UNION\n",
        "SELECT Cod_Asignatura, Nom_Asignatura, 0 AS Creditos\n",
        "FROM Tabla2;\n",
        "'''\n",
        "Asignaturas_Info = sqldf(query_3)\n",
        "Asignaturas_Info"
      ]
    },
    {
      "cell_type": "code",
      "execution_count": 78,
      "metadata": {
        "colab": {
          "base_uri": "https://localhost:8080/"
        },
        "id": "rUmQtdsZom29",
        "outputId": "e1375ea5-c67e-4ec0-8329-aba48c33095b"
      },
      "outputs": [
        {
          "name": "stdout",
          "output_type": "stream",
          "text": [
            "***  Base de Datos Creada y conectada a cursor ***\n",
            "Tabla 'Estudiantes_Aprobados' creada correctamente.\n"
          ]
        }
      ],
      "source": [
        "import sqlite3\n",
        "Apuntador = sqlite3.connect('DatosApp.db')\n",
        "cursor = Apuntador.cursor()\n",
        "print(\"***  Base de Datos Creada y conectada a cursor ***\")\n",
        "\n",
        "cursor.execute(\"\"\"\n",
        "        CREATE TABLE IF NOT EXISTS Estudiantes_Aprobados (\n",
        "            Identificacion TEXT PRIMARY KEY,\n",
        "            Nombre TEXT,\n",
        "            Codigo_plan TEXT,\n",
        "            Resol_apro TEXT,\n",
        "            Fecha_actualizacion TEXT\n",
        "        );\n",
        "    \"\"\")\n",
        "\n",
        "Apuntador.commit()\n",
        "print(\"Tabla 'Estudiantes_Aprobados' creada correctamente.\")\n",
        "Planes_de_estudio.to_sql('Planes_de_estudio', Apuntador, if_exists='replace', index=False)\n",
        "Agrupaciones_CC.to_sql('Agrupaciones_CC', Apuntador, if_exists='replace', index=False)\n",
        "Asignaturas_CC.to_sql('Asignaturas_CC',Apuntador, if_exists='replace', index=False)\n",
        "Equivalencias.to_sql('Equivalencias', Apuntador, if_exists='replace', index=False)\n",
        "Asignaturas_Info.to_sql('Asignaturas_Info', Apuntador, if_exists='replace', index=False)\n",
        "\n",
        "# Cerrar la conexión\n",
        "Apuntador.close()"
      ]
    }
  ],
  "metadata": {
    "colab": {
      "provenance": []
    },
    "kernelspec": {
      "display_name": "Python 3",
      "name": "python3"
    },
    "language_info": {
      "codemirror_mode": {
        "name": "ipython",
        "version": 3
      },
      "file_extension": ".py",
      "mimetype": "text/x-python",
      "name": "python",
      "nbconvert_exporter": "python",
      "pygments_lexer": "ipython3",
      "version": "3.12.0"
    }
  },
  "nbformat": 4,
  "nbformat_minor": 0
}
